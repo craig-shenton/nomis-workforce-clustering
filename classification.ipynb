{
 "metadata": {
  "language_info": {
   "codemirror_mode": {
    "name": "ipython",
    "version": 3
   },
   "file_extension": ".py",
   "mimetype": "text/x-python",
   "name": "python",
   "nbconvert_exporter": "python",
   "pygments_lexer": "ipython3",
   "version": "3.9.5"
  },
  "orig_nbformat": 2,
  "kernelspec": {
   "name": "python395jvsc74a57bd09482e6b08417a547e39716b9af11f29f02494ba6fdc07e57d03cb8a19793fcde",
   "display_name": "Python 3.9.5 64-bit (windows store)"
  },
  "metadata": {
   "interpreter": {
    "hash": "9482e6b08417a547e39716b9af11f29f02494ba6fdc07e57d03cb8a19793fcde"
   }
  }
 },
 "nbformat": 4,
 "nbformat_minor": 2,
 "cells": [
  {
   "cell_type": "code",
   "execution_count": 1,
   "metadata": {},
   "outputs": [],
   "source": [
    "import pandas as pd"
   ]
  },
  {
   "cell_type": "code",
   "execution_count": 2,
   "metadata": {},
   "outputs": [
    {
     "output_type": "execute_result",
     "data": {
      "text/plain": [
       "          WZ11CD Supergroup Code                 Supergroup Name Group Code  \\\n",
       "0      E33000001               E  Manufacturing and distribution         E4   \n",
       "1      E33000002               G             Servants of society         G3   \n",
       "2      E33000003               E  Manufacturing and distribution         E1   \n",
       "3      E33000004               E  Manufacturing and distribution         E1   \n",
       "4      E33000005               G             Servants of society         G1   \n",
       "...          ...             ...                             ...        ...   \n",
       "60704  W35002706               C                   Metro suburbs         C5   \n",
       "60705  W35002707               G             Servants of society         G1   \n",
       "60706  W35002708               G             Servants of society         G1   \n",
       "60707  W35002709               C                   Metro suburbs         C3   \n",
       "60708  W35002710               C                   Metro suburbs         C1   \n",
       "\n",
       "                                       Group Name  \n",
       "0             Manufacturing, energy and utilities  \n",
       "1                           Large scale education  \n",
       "2                 Mining and quarrying facilities  \n",
       "3                 Mining and quarrying facilities  \n",
       "4              Public administration and security  \n",
       "...                                           ...  \n",
       "60704  Professional home-workers in outer suburbs  \n",
       "60705          Public administration and security  \n",
       "60706          Public administration and security  \n",
       "60707      Metro suburban distribution industries  \n",
       "60708        Teachers and carers in metro suburbs  \n",
       "\n",
       "[60709 rows x 5 columns]"
      ],
      "text/html": "<div>\n<style scoped>\n    .dataframe tbody tr th:only-of-type {\n        vertical-align: middle;\n    }\n\n    .dataframe tbody tr th {\n        vertical-align: top;\n    }\n\n    .dataframe thead th {\n        text-align: right;\n    }\n</style>\n<table border=\"1\" class=\"dataframe\">\n  <thead>\n    <tr style=\"text-align: right;\">\n      <th></th>\n      <th>WZ11CD</th>\n      <th>Supergroup Code</th>\n      <th>Supergroup Name</th>\n      <th>Group Code</th>\n      <th>Group Name</th>\n    </tr>\n  </thead>\n  <tbody>\n    <tr>\n      <th>0</th>\n      <td>E33000001</td>\n      <td>E</td>\n      <td>Manufacturing and distribution</td>\n      <td>E4</td>\n      <td>Manufacturing, energy and utilities</td>\n    </tr>\n    <tr>\n      <th>1</th>\n      <td>E33000002</td>\n      <td>G</td>\n      <td>Servants of society</td>\n      <td>G3</td>\n      <td>Large scale education</td>\n    </tr>\n    <tr>\n      <th>2</th>\n      <td>E33000003</td>\n      <td>E</td>\n      <td>Manufacturing and distribution</td>\n      <td>E1</td>\n      <td>Mining and quarrying facilities</td>\n    </tr>\n    <tr>\n      <th>3</th>\n      <td>E33000004</td>\n      <td>E</td>\n      <td>Manufacturing and distribution</td>\n      <td>E1</td>\n      <td>Mining and quarrying facilities</td>\n    </tr>\n    <tr>\n      <th>4</th>\n      <td>E33000005</td>\n      <td>G</td>\n      <td>Servants of society</td>\n      <td>G1</td>\n      <td>Public administration and security</td>\n    </tr>\n    <tr>\n      <th>...</th>\n      <td>...</td>\n      <td>...</td>\n      <td>...</td>\n      <td>...</td>\n      <td>...</td>\n    </tr>\n    <tr>\n      <th>60704</th>\n      <td>W35002706</td>\n      <td>C</td>\n      <td>Metro suburbs</td>\n      <td>C5</td>\n      <td>Professional home-workers in outer suburbs</td>\n    </tr>\n    <tr>\n      <th>60705</th>\n      <td>W35002707</td>\n      <td>G</td>\n      <td>Servants of society</td>\n      <td>G1</td>\n      <td>Public administration and security</td>\n    </tr>\n    <tr>\n      <th>60706</th>\n      <td>W35002708</td>\n      <td>G</td>\n      <td>Servants of society</td>\n      <td>G1</td>\n      <td>Public administration and security</td>\n    </tr>\n    <tr>\n      <th>60707</th>\n      <td>W35002709</td>\n      <td>C</td>\n      <td>Metro suburbs</td>\n      <td>C3</td>\n      <td>Metro suburban distribution industries</td>\n    </tr>\n    <tr>\n      <th>60708</th>\n      <td>W35002710</td>\n      <td>C</td>\n      <td>Metro suburbs</td>\n      <td>C1</td>\n      <td>Teachers and carers in metro suburbs</td>\n    </tr>\n  </tbody>\n</table>\n<p>60709 rows × 5 columns</p>\n</div>"
     },
     "metadata": {},
     "execution_count": 2
    }
   ],
   "source": [
    "workZone_df = pd.read_csv(\"data/wzassignmentsfinal.csv\")\n",
    "workZone_df = workZone_df.rename(columns={'Workplace Zone Code': 'WZ11CD'})\n",
    "workZone_df"
   ]
  },
  {
   "cell_type": "code",
   "execution_count": 3,
   "metadata": {},
   "outputs": [
    {
     "output_type": "execute_result",
     "data": {
      "text/plain": [
       "         FID     WZ11CD   MSOA11CD        MSOA11NM    LAD20CD     LAD20NM\n",
       "0          1  E33000269  E02002484  Hartlepool 002  E06000001  Hartlepool\n",
       "1          2  E33000270  E02002487  Hartlepool 005  E06000001  Hartlepool\n",
       "2          3  E33000271  E02002487  Hartlepool 005  E06000001  Hartlepool\n",
       "3          4  E33000272  E02002487  Hartlepool 005  E06000001  Hartlepool\n",
       "4          5  E33000273  E02002487  Hartlepool 005  E06000001  Hartlepool\n",
       "...      ...        ...        ...             ...        ...         ...\n",
       "53573  53574  W35002389  W02000347     Newport 001  W06000022     Newport\n",
       "53574  53575  W35002390  W02000347     Newport 001  W06000022     Newport\n",
       "53575  53576  W35002391  W02000347     Newport 001  W06000022     Newport\n",
       "53576  53577  W35002392  W02000347     Newport 001  W06000022     Newport\n",
       "53577  53578  W35002393  W02000348     Newport 002  W06000022     Newport\n",
       "\n",
       "[53578 rows x 6 columns]"
      ],
      "text/html": "<div>\n<style scoped>\n    .dataframe tbody tr th:only-of-type {\n        vertical-align: middle;\n    }\n\n    .dataframe tbody tr th {\n        vertical-align: top;\n    }\n\n    .dataframe thead th {\n        text-align: right;\n    }\n</style>\n<table border=\"1\" class=\"dataframe\">\n  <thead>\n    <tr style=\"text-align: right;\">\n      <th></th>\n      <th>FID</th>\n      <th>WZ11CD</th>\n      <th>MSOA11CD</th>\n      <th>MSOA11NM</th>\n      <th>LAD20CD</th>\n      <th>LAD20NM</th>\n    </tr>\n  </thead>\n  <tbody>\n    <tr>\n      <th>0</th>\n      <td>1</td>\n      <td>E33000269</td>\n      <td>E02002484</td>\n      <td>Hartlepool 002</td>\n      <td>E06000001</td>\n      <td>Hartlepool</td>\n    </tr>\n    <tr>\n      <th>1</th>\n      <td>2</td>\n      <td>E33000270</td>\n      <td>E02002487</td>\n      <td>Hartlepool 005</td>\n      <td>E06000001</td>\n      <td>Hartlepool</td>\n    </tr>\n    <tr>\n      <th>2</th>\n      <td>3</td>\n      <td>E33000271</td>\n      <td>E02002487</td>\n      <td>Hartlepool 005</td>\n      <td>E06000001</td>\n      <td>Hartlepool</td>\n    </tr>\n    <tr>\n      <th>3</th>\n      <td>4</td>\n      <td>E33000272</td>\n      <td>E02002487</td>\n      <td>Hartlepool 005</td>\n      <td>E06000001</td>\n      <td>Hartlepool</td>\n    </tr>\n    <tr>\n      <th>4</th>\n      <td>5</td>\n      <td>E33000273</td>\n      <td>E02002487</td>\n      <td>Hartlepool 005</td>\n      <td>E06000001</td>\n      <td>Hartlepool</td>\n    </tr>\n    <tr>\n      <th>...</th>\n      <td>...</td>\n      <td>...</td>\n      <td>...</td>\n      <td>...</td>\n      <td>...</td>\n      <td>...</td>\n    </tr>\n    <tr>\n      <th>53573</th>\n      <td>53574</td>\n      <td>W35002389</td>\n      <td>W02000347</td>\n      <td>Newport 001</td>\n      <td>W06000022</td>\n      <td>Newport</td>\n    </tr>\n    <tr>\n      <th>53574</th>\n      <td>53575</td>\n      <td>W35002390</td>\n      <td>W02000347</td>\n      <td>Newport 001</td>\n      <td>W06000022</td>\n      <td>Newport</td>\n    </tr>\n    <tr>\n      <th>53575</th>\n      <td>53576</td>\n      <td>W35002391</td>\n      <td>W02000347</td>\n      <td>Newport 001</td>\n      <td>W06000022</td>\n      <td>Newport</td>\n    </tr>\n    <tr>\n      <th>53576</th>\n      <td>53577</td>\n      <td>W35002392</td>\n      <td>W02000347</td>\n      <td>Newport 001</td>\n      <td>W06000022</td>\n      <td>Newport</td>\n    </tr>\n    <tr>\n      <th>53577</th>\n      <td>53578</td>\n      <td>W35002393</td>\n      <td>W02000348</td>\n      <td>Newport 002</td>\n      <td>W06000022</td>\n      <td>Newport</td>\n    </tr>\n  </tbody>\n</table>\n<p>53578 rows × 6 columns</p>\n</div>"
     },
     "metadata": {},
     "execution_count": 3
    }
   ],
   "source": [
    "WZ_LA_map = pd.read_csv(\"data/workZone_LA.csv\")\n",
    "WZ_LA_map"
   ]
  },
  {
   "cell_type": "code",
   "execution_count": 4,
   "metadata": {},
   "outputs": [
    {
     "output_type": "execute_result",
     "data": {
      "text/plain": [
       "          WZ11CD Supergroup Code                 Supergroup Name Group Code  \\\n",
       "0      E33000001               E  Manufacturing and distribution         E4   \n",
       "1      E33000002               G             Servants of society         G3   \n",
       "2      E33000003               E  Manufacturing and distribution         E1   \n",
       "3      E33000004               E  Manufacturing and distribution         E1   \n",
       "4      E33000005               G             Servants of society         G1   \n",
       "...          ...             ...                             ...        ...   \n",
       "60704  W35002706               C                   Metro suburbs         C5   \n",
       "60705  W35002707               G             Servants of society         G1   \n",
       "60706  W35002708               G             Servants of society         G1   \n",
       "60707  W35002709               C                   Metro suburbs         C3   \n",
       "60708  W35002710               C                   Metro suburbs         C1   \n",
       "\n",
       "                                       Group Name      FID   MSOA11CD  \\\n",
       "0             Manufacturing, energy and utilities  42579.0  E02006841   \n",
       "1                           Large scale education  42580.0  E02006841   \n",
       "2                 Mining and quarrying facilities  42581.0  E02006841   \n",
       "3                 Mining and quarrying facilities  42582.0  E02006841   \n",
       "4              Public administration and security  42583.0  E02006841   \n",
       "...                                           ...      ...        ...   \n",
       "60704  Professional home-workers in outer suburbs  52445.0  W02000423   \n",
       "60705          Public administration and security  52446.0  W02000423   \n",
       "60706          Public administration and security  52447.0  W02000423   \n",
       "60707      Metro suburban distribution industries  52448.0  W02000423   \n",
       "60708        Teachers and carers in metro suburbs  52449.0  W02000423   \n",
       "\n",
       "            MSOA11NM    LAD20CD    LAD20NM  \n",
       "0      Gateshead 027  E08000037  Gateshead  \n",
       "1      Gateshead 027  E08000037  Gateshead  \n",
       "2      Gateshead 027  E08000037  Gateshead  \n",
       "3      Gateshead 027  E08000037  Gateshead  \n",
       "4      Gateshead 027  E08000037  Gateshead  \n",
       "...              ...        ...        ...  \n",
       "60704    Cardiff 049  W06000015    Cardiff  \n",
       "60705    Cardiff 049  W06000015    Cardiff  \n",
       "60706    Cardiff 049  W06000015    Cardiff  \n",
       "60707    Cardiff 049  W06000015    Cardiff  \n",
       "60708    Cardiff 049  W06000015    Cardiff  \n",
       "\n",
       "[60709 rows x 10 columns]"
      ],
      "text/html": "<div>\n<style scoped>\n    .dataframe tbody tr th:only-of-type {\n        vertical-align: middle;\n    }\n\n    .dataframe tbody tr th {\n        vertical-align: top;\n    }\n\n    .dataframe thead th {\n        text-align: right;\n    }\n</style>\n<table border=\"1\" class=\"dataframe\">\n  <thead>\n    <tr style=\"text-align: right;\">\n      <th></th>\n      <th>WZ11CD</th>\n      <th>Supergroup Code</th>\n      <th>Supergroup Name</th>\n      <th>Group Code</th>\n      <th>Group Name</th>\n      <th>FID</th>\n      <th>MSOA11CD</th>\n      <th>MSOA11NM</th>\n      <th>LAD20CD</th>\n      <th>LAD20NM</th>\n    </tr>\n  </thead>\n  <tbody>\n    <tr>\n      <th>0</th>\n      <td>E33000001</td>\n      <td>E</td>\n      <td>Manufacturing and distribution</td>\n      <td>E4</td>\n      <td>Manufacturing, energy and utilities</td>\n      <td>42579.0</td>\n      <td>E02006841</td>\n      <td>Gateshead 027</td>\n      <td>E08000037</td>\n      <td>Gateshead</td>\n    </tr>\n    <tr>\n      <th>1</th>\n      <td>E33000002</td>\n      <td>G</td>\n      <td>Servants of society</td>\n      <td>G3</td>\n      <td>Large scale education</td>\n      <td>42580.0</td>\n      <td>E02006841</td>\n      <td>Gateshead 027</td>\n      <td>E08000037</td>\n      <td>Gateshead</td>\n    </tr>\n    <tr>\n      <th>2</th>\n      <td>E33000003</td>\n      <td>E</td>\n      <td>Manufacturing and distribution</td>\n      <td>E1</td>\n      <td>Mining and quarrying facilities</td>\n      <td>42581.0</td>\n      <td>E02006841</td>\n      <td>Gateshead 027</td>\n      <td>E08000037</td>\n      <td>Gateshead</td>\n    </tr>\n    <tr>\n      <th>3</th>\n      <td>E33000004</td>\n      <td>E</td>\n      <td>Manufacturing and distribution</td>\n      <td>E1</td>\n      <td>Mining and quarrying facilities</td>\n      <td>42582.0</td>\n      <td>E02006841</td>\n      <td>Gateshead 027</td>\n      <td>E08000037</td>\n      <td>Gateshead</td>\n    </tr>\n    <tr>\n      <th>4</th>\n      <td>E33000005</td>\n      <td>G</td>\n      <td>Servants of society</td>\n      <td>G1</td>\n      <td>Public administration and security</td>\n      <td>42583.0</td>\n      <td>E02006841</td>\n      <td>Gateshead 027</td>\n      <td>E08000037</td>\n      <td>Gateshead</td>\n    </tr>\n    <tr>\n      <th>...</th>\n      <td>...</td>\n      <td>...</td>\n      <td>...</td>\n      <td>...</td>\n      <td>...</td>\n      <td>...</td>\n      <td>...</td>\n      <td>...</td>\n      <td>...</td>\n      <td>...</td>\n    </tr>\n    <tr>\n      <th>60704</th>\n      <td>W35002706</td>\n      <td>C</td>\n      <td>Metro suburbs</td>\n      <td>C5</td>\n      <td>Professional home-workers in outer suburbs</td>\n      <td>52445.0</td>\n      <td>W02000423</td>\n      <td>Cardiff 049</td>\n      <td>W06000015</td>\n      <td>Cardiff</td>\n    </tr>\n    <tr>\n      <th>60705</th>\n      <td>W35002707</td>\n      <td>G</td>\n      <td>Servants of society</td>\n      <td>G1</td>\n      <td>Public administration and security</td>\n      <td>52446.0</td>\n      <td>W02000423</td>\n      <td>Cardiff 049</td>\n      <td>W06000015</td>\n      <td>Cardiff</td>\n    </tr>\n    <tr>\n      <th>60706</th>\n      <td>W35002708</td>\n      <td>G</td>\n      <td>Servants of society</td>\n      <td>G1</td>\n      <td>Public administration and security</td>\n      <td>52447.0</td>\n      <td>W02000423</td>\n      <td>Cardiff 049</td>\n      <td>W06000015</td>\n      <td>Cardiff</td>\n    </tr>\n    <tr>\n      <th>60707</th>\n      <td>W35002709</td>\n      <td>C</td>\n      <td>Metro suburbs</td>\n      <td>C3</td>\n      <td>Metro suburban distribution industries</td>\n      <td>52448.0</td>\n      <td>W02000423</td>\n      <td>Cardiff 049</td>\n      <td>W06000015</td>\n      <td>Cardiff</td>\n    </tr>\n    <tr>\n      <th>60708</th>\n      <td>W35002710</td>\n      <td>C</td>\n      <td>Metro suburbs</td>\n      <td>C1</td>\n      <td>Teachers and carers in metro suburbs</td>\n      <td>52449.0</td>\n      <td>W02000423</td>\n      <td>Cardiff 049</td>\n      <td>W06000015</td>\n      <td>Cardiff</td>\n    </tr>\n  </tbody>\n</table>\n<p>60709 rows × 10 columns</p>\n</div>"
     },
     "metadata": {},
     "execution_count": 4
    }
   ],
   "source": [
    "inner_merged_total = pd.merge(workZone_df, WZ_LA_map, on=['WZ11CD'], how=\"left\")\n",
    "inner_merged_total\n",
    "#inner_merged_total.shape"
   ]
  },
  {
   "cell_type": "code",
   "execution_count": 64,
   "metadata": {},
   "outputs": [
    {
     "output_type": "execute_result",
     "data": {
      "text/plain": [
       "LAD20NM\n",
       "Adur            Manufacturing, energy and utilitiesBusiness pa...\n",
       "Allerdale       Market squaresLarge scale educationMining and ...\n",
       "Amber Valley    Traditional high streetsLarge scale educationL...\n",
       "Arun            Market squaresRural with mining or quarryingLo...\n",
       "Ashfield        Low density wholesale and retailMultiethnic ur...\n",
       "                                      ...                        \n",
       "Worthing        Manufacturing, energy and utilitiesMining and ...\n",
       "Wychavon        Public administration and securityTraditional ...\n",
       "Wyre            Mining and quarrying facilitiesManufacturing, ...\n",
       "Wyre Forest     Manufacturing, energy and utilitiesLow density...\n",
       "York            Public administration and securityTown fringe ...\n",
       "Name: Group Name, Length: 314, dtype: object"
      ]
     },
     "metadata": {},
     "execution_count": 64
    }
   ],
   "source": [
    "inner_merged_total = inner_merged_total[inner_merged_total['WZ11CD'].str.contains(\"E\")]\n",
    "#inner_merged_total = inner_merged_total.drop_duplicates(subset=['Group Code', 'LAD20CD'])\n",
    "counts = inner_merged_total.groupby(\"LAD20NM\")['Group Name'].sum()\n",
    "counts"
   ]
  },
  {
   "cell_type": "code",
   "execution_count": 63,
   "metadata": {},
   "outputs": [],
   "source": [
    "counts.reset_index().to_csv('data/class.csv', index=False)"
   ]
  },
  {
   "source": [
    "# Urban / Rural"
   ],
   "cell_type": "markdown",
   "metadata": {}
  },
  {
   "cell_type": "code",
   "execution_count": 5,
   "metadata": {},
   "outputs": [
    {
     "output_type": "execute_result",
     "data": {
      "text/plain": [
       "       LAD11CD               LAD11NM  RUC11CD  \\\n",
       "0    E06000001            Hartlepool        4   \n",
       "1    E06000002         Middlesbrough        4   \n",
       "2    E06000003  Redcar and Cleveland        3   \n",
       "3    E06000004      Stockton-on-Tees        4   \n",
       "4    E06000005            Darlington        4   \n",
       "..         ...                   ...      ...   \n",
       "321  E09000029                Sutton        6   \n",
       "322  E09000030         Tower Hamlets        6   \n",
       "323  E09000031        Waltham Forest        6   \n",
       "324  E09000032            Wandsworth        6   \n",
       "325  E09000033           Westminster        6   \n",
       "\n",
       "                                                 RUC11 Rural population1  \\\n",
       "0                             Urban with City and Town             3,173   \n",
       "1                             Urban with City and Town               957   \n",
       "2    Urban with Significant Rural (rural including ...            43,880   \n",
       "3                             Urban with City and Town             7,536   \n",
       "4                             Urban with City and Town            13,201   \n",
       "..                                                 ...               ...   \n",
       "321                       Urban with Major Conurbation                 0   \n",
       "322                       Urban with Major Conurbation                 0   \n",
       "323                       Urban with Major Conurbation                 0   \n",
       "324                       Urban with Major Conurbation                 0   \n",
       "325                       Urban with Major Conurbation                 0   \n",
       "\n",
       "    Hub towns (rural related) population1  \\\n",
       "0                                       0   \n",
       "1                                       0   \n",
       "2                                       0   \n",
       "3                                       0   \n",
       "4                                       0   \n",
       "..                                    ...   \n",
       "321                                     0   \n",
       "322                                     0   \n",
       "323                                     0   \n",
       "324                                     0   \n",
       "325                                     0   \n",
       "\n",
       "    Rural including hub towns (rural & rural related) population1  \\\n",
       "0                                                3,173              \n",
       "1                                                  957              \n",
       "2                                               43,880              \n",
       "3                                                7,536              \n",
       "4                                               13,201              \n",
       "..                                                 ...              \n",
       "321                                                  0              \n",
       "322                                                  0              \n",
       "323                                                  0              \n",
       "324                                                  0              \n",
       "325                                                  0              \n",
       "\n",
       "     Total population1  \\\n",
       "0               92,028   \n",
       "1              138,412   \n",
       "2              135,177   \n",
       "3              191,610   \n",
       "4              105,564   \n",
       "..                 ...   \n",
       "321            190,146   \n",
       "322            254,096   \n",
       "323            258,249   \n",
       "324            306,995   \n",
       "325            219,396   \n",
       "\n",
       "     Rural including hub towns (rural & rural related) population1   \n",
       "0                                                  3.4               \n",
       "1                                                  0.7               \n",
       "2                                                 32.5               \n",
       "3                                                  3.9               \n",
       "4                                                 12.5               \n",
       "..                                                 ...               \n",
       "321                                                0.0               \n",
       "322                                                0.0               \n",
       "323                                                0.0               \n",
       "324                                                0.0               \n",
       "325                                                0.0               \n",
       "\n",
       "[326 rows x 9 columns]"
      ],
      "text/html": "<div>\n<style scoped>\n    .dataframe tbody tr th:only-of-type {\n        vertical-align: middle;\n    }\n\n    .dataframe tbody tr th {\n        vertical-align: top;\n    }\n\n    .dataframe thead th {\n        text-align: right;\n    }\n</style>\n<table border=\"1\" class=\"dataframe\">\n  <thead>\n    <tr style=\"text-align: right;\">\n      <th></th>\n      <th>LAD11CD</th>\n      <th>LAD11NM</th>\n      <th>RUC11CD</th>\n      <th>RUC11</th>\n      <th>Rural population1</th>\n      <th>Hub towns (rural related) population1</th>\n      <th>Rural including hub towns (rural &amp; rural related) population1</th>\n      <th>Total population1</th>\n      <th>Rural including hub towns (rural &amp; rural related) population1</th>\n    </tr>\n  </thead>\n  <tbody>\n    <tr>\n      <th>0</th>\n      <td>E06000001</td>\n      <td>Hartlepool</td>\n      <td>4</td>\n      <td>Urban with City and Town</td>\n      <td>3,173</td>\n      <td>0</td>\n      <td>3,173</td>\n      <td>92,028</td>\n      <td>3.4</td>\n    </tr>\n    <tr>\n      <th>1</th>\n      <td>E06000002</td>\n      <td>Middlesbrough</td>\n      <td>4</td>\n      <td>Urban with City and Town</td>\n      <td>957</td>\n      <td>0</td>\n      <td>957</td>\n      <td>138,412</td>\n      <td>0.7</td>\n    </tr>\n    <tr>\n      <th>2</th>\n      <td>E06000003</td>\n      <td>Redcar and Cleveland</td>\n      <td>3</td>\n      <td>Urban with Significant Rural (rural including ...</td>\n      <td>43,880</td>\n      <td>0</td>\n      <td>43,880</td>\n      <td>135,177</td>\n      <td>32.5</td>\n    </tr>\n    <tr>\n      <th>3</th>\n      <td>E06000004</td>\n      <td>Stockton-on-Tees</td>\n      <td>4</td>\n      <td>Urban with City and Town</td>\n      <td>7,536</td>\n      <td>0</td>\n      <td>7,536</td>\n      <td>191,610</td>\n      <td>3.9</td>\n    </tr>\n    <tr>\n      <th>4</th>\n      <td>E06000005</td>\n      <td>Darlington</td>\n      <td>4</td>\n      <td>Urban with City and Town</td>\n      <td>13,201</td>\n      <td>0</td>\n      <td>13,201</td>\n      <td>105,564</td>\n      <td>12.5</td>\n    </tr>\n    <tr>\n      <th>...</th>\n      <td>...</td>\n      <td>...</td>\n      <td>...</td>\n      <td>...</td>\n      <td>...</td>\n      <td>...</td>\n      <td>...</td>\n      <td>...</td>\n      <td>...</td>\n    </tr>\n    <tr>\n      <th>321</th>\n      <td>E09000029</td>\n      <td>Sutton</td>\n      <td>6</td>\n      <td>Urban with Major Conurbation</td>\n      <td>0</td>\n      <td>0</td>\n      <td>0</td>\n      <td>190,146</td>\n      <td>0.0</td>\n    </tr>\n    <tr>\n      <th>322</th>\n      <td>E09000030</td>\n      <td>Tower Hamlets</td>\n      <td>6</td>\n      <td>Urban with Major Conurbation</td>\n      <td>0</td>\n      <td>0</td>\n      <td>0</td>\n      <td>254,096</td>\n      <td>0.0</td>\n    </tr>\n    <tr>\n      <th>323</th>\n      <td>E09000031</td>\n      <td>Waltham Forest</td>\n      <td>6</td>\n      <td>Urban with Major Conurbation</td>\n      <td>0</td>\n      <td>0</td>\n      <td>0</td>\n      <td>258,249</td>\n      <td>0.0</td>\n    </tr>\n    <tr>\n      <th>324</th>\n      <td>E09000032</td>\n      <td>Wandsworth</td>\n      <td>6</td>\n      <td>Urban with Major Conurbation</td>\n      <td>0</td>\n      <td>0</td>\n      <td>0</td>\n      <td>306,995</td>\n      <td>0.0</td>\n    </tr>\n    <tr>\n      <th>325</th>\n      <td>E09000033</td>\n      <td>Westminster</td>\n      <td>6</td>\n      <td>Urban with Major Conurbation</td>\n      <td>0</td>\n      <td>0</td>\n      <td>0</td>\n      <td>219,396</td>\n      <td>0.0</td>\n    </tr>\n  </tbody>\n</table>\n<p>326 rows × 9 columns</p>\n</div>"
     },
     "metadata": {},
     "execution_count": 5
    }
   ],
   "source": [
    "urbanRural_LA = pd.read_csv(\"data/RUC11_LAD11_ENv2.csv\")\n",
    "urbanRural_LA"
   ]
  },
  {
   "cell_type": "code",
   "execution_count": null,
   "metadata": {},
   "outputs": [],
   "source": []
  }
 ]
}