{
 "metadata": {
  "language_info": {
   "codemirror_mode": {
    "name": "ipython",
    "version": 3
   },
   "file_extension": ".py",
   "mimetype": "text/x-python",
   "name": "python",
   "nbconvert_exporter": "python",
   "pygments_lexer": "ipython3",
   "version": "3.9.5"
  },
  "orig_nbformat": 2,
  "kernelspec": {
   "name": "python395jvsc74a57bd09482e6b08417a547e39716b9af11f29f02494ba6fdc07e57d03cb8a19793fcde",
   "display_name": "Python 3.9.5 64-bit (windows store)"
  },
  "metadata": {
   "interpreter": {
    "hash": "9482e6b08417a547e39716b9af11f29f02494ba6fdc07e57d03cb8a19793fcde"
   }
  }
 },
 "nbformat": 4,
 "nbformat_minor": 2,
 "cells": [
  {
   "cell_type": "code",
   "execution_count": 1,
   "metadata": {},
   "outputs": [],
   "source": [
    "import pandas as pd\n",
    "import numpy as np\n",
    "import requests\n",
    "import json"
   ]
  },
  {
   "cell_type": "code",
   "execution_count": 2,
   "metadata": {},
   "outputs": [],
   "source": [
    "# NOMIS API - Population estimates - local authority based by five year age band\n",
    "url = 'https://www.nomisweb.co.uk/api/v01/dataset/NM_31_1.data.csv?geography=1820327937...1820328318&date=latest&sex=7&age=0,22,25&measures=20100,20301&signature=NPK-be81606366125733ff591b:0x040ed4bb17cc73b3e5e08779f332feb87f777ac1'\n",
    "\n",
    "df_population = pd.read_csv(url)"
   ]
  },
  {
   "cell_type": "code",
   "execution_count": 3,
   "metadata": {},
   "outputs": [],
   "source": [
    "df_population = df_population[['DATE','GEOGRAPHY_NAME','GEOGRAPHY_CODE','GEOGRAPHY_TYPE','AGE_NAME','MEASURES_NAME','OBS_VALUE']]\n",
    "df_population = df_population[df_population['GEOGRAPHY_CODE'].str.contains(\"E\")]\n",
    "df_population_pivot = df_population.pivot_table(index=['GEOGRAPHY_CODE'], \n",
    "                    columns=['AGE_NAME','MEASURES_NAME'], \n",
    "                    values='OBS_VALUE').reset_index()\n",
    "df_population_pivot.columns = df_population_pivot.columns.map('|'.join).str.strip('|')"
   ]
  },
  {
   "cell_type": "code",
   "execution_count": 4,
   "metadata": {},
   "outputs": [],
   "source": [
    "# NOMIS - annual population survey\n",
    "url = 'https://www.nomisweb.co.uk/api/v01/dataset/NM_17_5.data.csv?geography=1820327937...1820328307&date=latestMINUS4&variable=248,249,111,1487,1488,1537,290,720...722,335,344,18,45,558,564,197,202,434...437,1558,72,74,84&measures=20599,21001,21002,21003&signature=NPK-be81606366125733ff591b:0x6f9c2f37c9dfe740d3b6bb526a225b04981a766e'\n",
    "\n",
    "df_survey = pd.read_csv(url)"
   ]
  },
  {
   "cell_type": "code",
   "execution_count": 5,
   "metadata": {},
   "outputs": [],
   "source": [
    "df_survey = df_survey[['DATE','GEOGRAPHY_NAME','GEOGRAPHY_CODE','GEOGRAPHY_TYPE','MEASURES_NAME','VARIABLE_NAME','OBS_VALUE']]\n",
    "df_survey = df_survey[df_survey['GEOGRAPHY_CODE'].str.contains(\"E\")]\n",
    "df_survey_pivot = df_survey.pivot_table(index=['GEOGRAPHY_CODE'], \n",
    "                    columns=['VARIABLE_NAME','MEASURES_NAME'], \n",
    "                    values='OBS_VALUE').reset_index()\n",
    "df_survey_pivot.columns = df_survey_pivot.columns.map('|'.join).str.strip('|')"
   ]
  },
  {
   "cell_type": "code",
   "execution_count": 6,
   "metadata": {},
   "outputs": [],
   "source": [
    "# NOMIS - annual survey of hours and earnings - workplace analysis\n",
    "url = 'https://www.nomisweb.co.uk/api/v01/dataset/NM_99_1.data.csv?geography=1820327937...1820328307&date=latestMINUS1&sex=7...9&item=2&pay=1,7&measures=20100,20701&signature=NPK-be81606366125733ff591b:0xf7da857b959a5cb57353190fa7936dfcab634697'\n",
    "\n",
    "df_workplace = pd.read_csv(url)\n",
    "df_workplace = df_workplace[['DATE','GEOGRAPHY_NAME','GEOGRAPHY_CODE','GEOGRAPHY_TYPE','SEX_NAME','PAY_NAME','MEASURES_NAME','OBS_VALUE']]\n",
    "df_workplace = df_workplace[df_workplace['GEOGRAPHY_CODE'].str.contains(\"E\")]\n",
    "df_workplace_pivot = df_workplace.pivot_table(index=['GEOGRAPHY_CODE'], \n",
    "                    columns=['SEX_NAME','PAY_NAME','MEASURES_NAME'], \n",
    "                    values='OBS_VALUE').reset_index()\n",
    "df_workplace_pivot.columns = df_workplace_pivot.columns.map('|'.join).str.strip('|')"
   ]
  },
  {
   "cell_type": "code",
   "execution_count": 7,
   "metadata": {},
   "outputs": [],
   "source": [
    "# NOMIS - jobs density\n",
    "url = 'https://www.nomisweb.co.uk/api/v01/dataset/NM_57_1.data.csv?geography=1820327937...1820328318&date=latest&item=1,3&measures=20100&signature=NPK-be81606366125733ff591b:0x70612ce5fbfa17433bcee945bf28f28a577360ea'\n",
    "\n",
    "df_density = pd.read_csv(url)\n",
    "df_density = df_density[['DATE','GEOGRAPHY_NAME','GEOGRAPHY_CODE','GEOGRAPHY_TYPE','ITEM_NAME','MEASURES_NAME','OBS_VALUE']]\n",
    "df_density = df_density[df_density['GEOGRAPHY_CODE'].str.contains(\"E\")]\n",
    "df_density_pivot = df_density.pivot_table(index=['GEOGRAPHY_CODE'], \n",
    "                    columns=['ITEM_NAME','MEASURES_NAME'], \n",
    "                    values='OBS_VALUE').reset_index()\n",
    "df_density_pivot.columns = df_density_pivot.columns.map('|'.join).str.strip('|')"
   ]
  },
  {
   "cell_type": "code",
   "execution_count": 8,
   "metadata": {},
   "outputs": [],
   "source": [
    "# NOMIS - Claimant count\n",
    "url = 'https://www.nomisweb.co.uk/api/v01/dataset/NM_162_1.data.csv?geography=1820327937...1820328318&date=latestMINUS24&gender=0&age=0&measure=1...4&measures=20100&signature=NPK-be81606366125733ff591b:0x99686c2f446d8780bff53420853b01198f62baad'\n",
    "\n",
    "df_claim = pd.read_csv(url)\n",
    "df_claim = df_claim[['DATE','GEOGRAPHY_NAME','GEOGRAPHY_CODE','GEOGRAPHY_TYPE','MEASURE_NAME','OBS_VALUE']]\n",
    "df_claim = df_claim[df_claim['GEOGRAPHY_CODE'].str.contains(\"E\")]\n",
    "df_claim_pivot = df_claim.pivot_table(index=['GEOGRAPHY_CODE'], \n",
    "                    columns=['MEASURE_NAME'], \n",
    "                    values='OBS_VALUE').reset_index()"
   ]
  },
  {
   "cell_type": "code",
   "execution_count": 9,
   "metadata": {},
   "outputs": [],
   "source": [
    "# London Min Wage\n",
    "url = 'https://opendata.arcgis.com/datasets/3ba3daf9278f47daba0f561889c3521a_0.csv'\n",
    "\n",
    "df_london = pd.read_csv(url)\n",
    "df_london['london_min_wage'] = np.where(df_london['RGN19NM'] == 'London', True, False)\n",
    "df_london.drop(list(df_london.filter(['FID','LAD19NM'])), axis = 1, inplace = True)"
   ]
  },
  {
   "cell_type": "code",
   "execution_count": 10,
   "metadata": {},
   "outputs": [],
   "source": [
    "url = 'https://opendata.arcgis.com/datasets/c3ddcd23a15c4d7985d8b36f1344b1db_0.csv'\n",
    "df_index = pd.read_csv(url)\n",
    "\n",
    "df_index = df_index[df_index['LAD19CD'].str.contains(\"E\")]"
   ]
  },
  {
   "cell_type": "code",
   "execution_count": 11,
   "metadata": {},
   "outputs": [],
   "source": [
    "# Merge to master file\n",
    "merged_master = pd.merge(df_index, df_london, on=['LAD19CD'], how=\"left\")\n",
    "merged_master = pd.merge(merged_master, df_survey_pivot, left_on=['LAD19CD'], right_on=['GEOGRAPHY_CODE'], how=\"left\")\n",
    "merged_master = pd.merge(merged_master, df_population_pivot, left_on=['LAD19CD'], right_on=['GEOGRAPHY_CODE'], how=\"left\")\n",
    "merged_master = pd.merge(merged_master, df_density_pivot, left_on=['LAD19CD'], right_on=['GEOGRAPHY_CODE'], how=\"left\")\n",
    "merged_master = pd.merge(merged_master, df_workplace_pivot, left_on=['LAD19CD'], right_on=['GEOGRAPHY_CODE'], how=\"left\")\n",
    "merged_master = pd.merge(merged_master, df_claim_pivot, left_on=['LAD19CD'], right_on=['GEOGRAPHY_CODE'], how=\"left\")\n",
    "merged_master.drop(list(merged_master.filter(regex = 'GEOGRAPHY_CODE')), axis = 1, inplace = True)\n",
    "merged_master.reset_index().to_csv('data/master_file.csv', index=False)"
   ]
  },
  {
   "cell_type": "code",
   "execution_count": 13,
   "metadata": {},
   "outputs": [],
   "source": [
    "col_list = list(merged_master.columns)\n",
    "df = pd.DataFrame(col_list) \n",
    "    \n",
    "# saving the dataframe \n",
    "df.to_csv('data/metrics.csv') "
   ]
  },
  {
   "cell_type": "code",
   "execution_count": null,
   "metadata": {},
   "outputs": [],
   "source": []
  }
 ]
}