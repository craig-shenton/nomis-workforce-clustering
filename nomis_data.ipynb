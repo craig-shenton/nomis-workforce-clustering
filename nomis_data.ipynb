{
 "metadata": {
  "language_info": {
   "codemirror_mode": {
    "name": "ipython",
    "version": 3
   },
   "file_extension": ".py",
   "mimetype": "text/x-python",
   "name": "python",
   "nbconvert_exporter": "python",
   "pygments_lexer": "ipython3",
   "version": "3.9.5"
  },
  "orig_nbformat": 2,
  "kernelspec": {
   "name": "python395jvsc74a57bd09482e6b08417a547e39716b9af11f29f02494ba6fdc07e57d03cb8a19793fcde",
   "display_name": "Python 3.9.5 64-bit (windows store)"
  },
  "metadata": {
   "interpreter": {
    "hash": "9482e6b08417a547e39716b9af11f29f02494ba6fdc07e57d03cb8a19793fcde"
   }
  }
 },
 "nbformat": 4,
 "nbformat_minor": 2,
 "cells": [
  {
   "cell_type": "code",
   "execution_count": 1,
   "metadata": {},
   "outputs": [],
   "source": [
    "import pandas as pd"
   ]
  },
  {
   "cell_type": "code",
   "execution_count": 21,
   "metadata": {},
   "outputs": [
    {
     "output_type": "execute_result",
     "data": {
      "text/plain": [
       "array(['All ages', 'Aged 16 - 64', 'Aged 65 and over'], dtype=object)"
      ]
     },
     "metadata": {},
     "execution_count": 21
    }
   ],
   "source": [
    "# NOMIS API - Population estimates - local authority based by five year age band\n",
    "url = 'https://www.nomisweb.co.uk/api/v01/dataset/NM_31_1.data.csv?geography=1811939329...1811939332,1811939334...1811939336,1811939338...1811939428,1811939436...1811939442,1811939768,1811939769,1811939443...1811939497,1811939499...1811939501,1811939503,1811939505...1811939507,1811939509...1811939517,1811939519,1811939520,1811939524...1811939570,1811939575...1811939599,1811939601...1811939628,1811939630...1811939634,1811939636...1811939647,1811939649,1811939655...1811939664,1811939667...1811939680,1811939682,1811939683,1811939685,1811939687...1811939704,1811939707,1811939708,1811939710,1811939712...1811939717,1811939719,1811939720,1811939722...1811939730,1811939757...1811939767,1807745025...1807745028,1807745030...1807745032,1807745034...1807745083,1807745085,1807745282,1807745283,1807745086...1807745155,1807745157...1807745164,1807745166...1807745170,1807745172...1807745177,1807745179...1807745194,1807745196,1807745197,1807745199,1807745201...1807745218,1807745221,1807745222,1807745224,1807745226...1807745231,1807745233,1807745234,1807745236...1807745244,1807745271...1807745281,1853882369...1853882372,1853882374...1853882379&date=latest&sex=7&age=0,22,25&measures=20100,20301'\n",
    "\n",
    "df = pd.read_csv(url)\n",
    "df = df[['DATE','GEOGRAPHY_NAME','GEOGRAPHY_CODE','GEOGRAPHY_TYPE','AGE_NAME','MEASURES_NAME','OBS_VALUE']]\n",
    "df = df[df['GEOGRAPHY_CODE'].str.contains(\"E\")]\n",
    "df['AGE_NAME'].unique()"
   ]
  },
  {
   "cell_type": "code",
   "execution_count": 19,
   "metadata": {},
   "outputs": [
    {
     "output_type": "execute_result",
     "data": {
      "text/plain": [
       "array(['Economic activity rate - aged 16-64',\n",
       "       'Employment rate - aged 16-64', '% aged 16-64 who are employees',\n",
       "       '% aged 16-64 who are self employed',\n",
       "       'Unemployment rate - aged 16-64 ', 'Unemployment rate - aged 16+',\n",
       "       '% who are economically inactive - aged 16-64',\n",
       "       '% of economically inactive who want a job',\n",
       "       '% of economically inactive who do not want a job',\n",
       "       '% all in employment who are - 1: managers, directors and senior officials (SOC2010)',\n",
       "       '% all in employment who are - 2: professional occupations (SOC2010)',\n",
       "       '% all in employment who are - 3: associate prof & tech occupations (SOC2010)',\n",
       "       '% all in employment who are - 4: administrative and secretarial occupations (SOC2010)',\n",
       "       '% all in employment who are - 5: skilled trades occupations (SOC2010)',\n",
       "       '% all in employment who are - 6: caring, leisure and other service occupations (SOC2010)',\n",
       "       '% all in employment who are - 7: sales and customer service occupations (SOC2010)',\n",
       "       '% all in employment who are - 8: process, plant and machine operatives (SOC2010)',\n",
       "       '% all in employment who are - 9: elementary occupations (SOC2010)',\n",
       "       '% with NVQ4+ - aged 16-64', '% with NVQ3+ - aged 16-64',\n",
       "       '% with NVQ2+ - aged 16-64', '% with NVQ1+ - aged 16-64',\n",
       "       '% with other qualifications (NVQ) - aged 16-64',\n",
       "       '% with no qualifications (NVQ) - aged 16-64'], dtype=object)"
      ]
     },
     "metadata": {},
     "execution_count": 19
    }
   ],
   "source": [
    "# NOMIS - annual population survey\n",
    "url = 'https://www.nomisweb.co.uk/api/v01/dataset/NM_17_5.data.csv?geography=1853882369...1853882372,1853882374...1853882379,1807745025...1807745028,1807745030...1807745032,1807745034...1807745083,1807745085,1807745282,1807745283,1807745086...1807745155,1807745157...1807745164,1807745166...1807745170,1807745172...1807745177,1807745179...1807745194,1807745196,1807745197,1807745199,1807745201...1807745218,1807745221,1807745222,1807745224,1807745226...1807745231,1807745233,1807745234,1807745236...1807745244,1811939329...1811939332,1811939334...1811939336,1811939338...1811939428,1811939436...1811939442,1811939768,1811939769,1811939443...1811939497,1811939499...1811939501,1811939503,1811939505...1811939507,1811939509...1811939517,1811939519,1811939520,1811939524...1811939570,1811939575...1811939599,1811939601...1811939628,1811939630...1811939634,1811939636...1811939647,1811939649,1811939655...1811939664,1811939667...1811939680,1811939682,1811939683,1811939685,1811939687...1811939704,1811939707,1811939708,1811939710,1811939712...1811939717,1811939719,1811939720,1811939722...1811939730&date=latestMINUS4&variable=18,45,248,249,84,83,111,1487,1488,1532...1540,290,720...722,335,344&measures=20599,21001,21002,21003'\n",
    "\n",
    "df = pd.read_csv(url)\n",
    "df = df[['DATE','GEOGRAPHY_NAME','GEOGRAPHY_CODE','GEOGRAPHY_TYPE','MEASURES_NAME','VARIABLE_NAME','OBS_VALUE']]\n",
    "df = df[df['GEOGRAPHY_CODE'].str.contains(\"E\")]\n",
    "df['VARIABLE_NAME'].unique()"
   ]
  },
  {
   "cell_type": "code",
   "execution_count": 20,
   "metadata": {},
   "outputs": [
    {
     "output_type": "execute_result",
     "data": {
      "text/plain": [
       "array(['% in employment working full-time - aged 16-64',\n",
       "       '% in employment working part-time - aged 16-64',\n",
       "       '% aged 16-64 in employment who work in - A:agriculture and fishing (SIC 2007)',\n",
       "       '% aged 16-64 in employment who work in - B,D,E:energy and water (SIC 2007)',\n",
       "       '% aged 16-64 in employment who work in - C:manufacturing (SIC 2007)',\n",
       "       '% aged 16-64 in employment who work in - F:construction (SIC 2007)',\n",
       "       '% aged 16-64 in employment who work in - G,I:distribution, hotels and restaurants (SIC 2007)',\n",
       "       '% aged 16-64 in employment who work in - H,J:transport and communications (SIC 2007)',\n",
       "       '% aged 16-64 in employment who work in - K-N:banking, finance and insurance (SIC 2007)',\n",
       "       '% aged 16-64 in employment who work in - O-Q:public admin. education and health (SIC 2007)',\n",
       "       '% aged 16-64 in employment who work in - R-U:other services (SIC 2007)',\n",
       "       '% aged 16-64 in employment who work in - G-U:total services (SIC 2007)',\n",
       "       '% of white - aged 16-64', '% of ethnic minority - aged 16-64',\n",
       "       '% all in employment who are - 11: corporate managers and directors (SOC2010)',\n",
       "       '% all in employment who are - 12: other managers and proprietors (SOC2010)',\n",
       "       '% all in employment who are - 21: science, research, engineering and technology profs (SOC2010)',\n",
       "       '% all in employment who are - 22: health professionals (SOC2010)',\n",
       "       '% all in employment who are - 23: teaching and educational professionals (SOC2010)',\n",
       "       '% all in employment who are - 24: business, media and public service professionals (SOC2010)',\n",
       "       '% all in employment who are - 31: science, engineering and technology associate profs (SOC2010)',\n",
       "       '% all in employment who are - 32: health & social care assoc. professionals (SOC2010)',\n",
       "       '% all in employment who are - 33: protective service occupations (SOC2010)',\n",
       "       '% all in employment who are - 34: culture, media and sports occupations (SOC2010)',\n",
       "       '% all in employment who are - 35: business & public service assoc. professionals (SOC2010)',\n",
       "       '% all in employment who are - 41: administrative occupations (SOC2010)',\n",
       "       '% all in employment who are - 42: secretarial and related occupations (SOC2010)',\n",
       "       '% all in employment who are - 51: skilled agricultural and related trades (SOC2010)',\n",
       "       '% all in employment who are - 52: skilled metal, electrical and electronic trades (SOC2010)',\n",
       "       '% all in employment who are - 53: skilled construction and building trades (SOC2010)',\n",
       "       '% all in employment who are - 54: textiles, printing and other skilled trades (SOC2010)',\n",
       "       '% all in employment who are - 61: caring personal service occupations (SOC2010)',\n",
       "       '% all in employment who are - 62: leisure, travel and related personal service occs (SOC2010)',\n",
       "       '% all in employment who are - 71: sales occupations (SOC2010)',\n",
       "       '% all in employment who are - 72: customer service occupations (SOC2010)',\n",
       "       '% all in employment who are - 81: process, plant and machines operatives (SOC2010)',\n",
       "       '% all in employment who are - 82: transport & mobile machine drivers/operatives (SOC2010)',\n",
       "       '% all in employment who are - 91: elementary trades and related occupations (SOC2010)',\n",
       "       '% all in employment who are - 92: elementary administration & service occs (SOC2010)',\n",
       "       '% in employment who are employees - aged 16-64',\n",
       "       '% in employment who are self employed - aged 16-64'], dtype=object)"
      ]
     },
     "metadata": {},
     "execution_count": 20
    }
   ],
   "source": [
    "# NOMIS - annual population survey (detail)\n",
    "url = 'https://www.nomisweb.co.uk/api/v01/dataset/NM_17_5.data.csv?geography=1811939329...1811939332,1811939334...1811939336,1811939338...1811939428,1811939436...1811939442,1811939768,1811939769,1811939443...1811939497,1811939499...1811939501,1811939503,1811939505...1811939507,1811939509...1811939517,1811939519,1811939520,1811939524...1811939570,1811939575...1811939599,1811939601...1811939628,1811939630...1811939634,1811939636...1811939647,1811939649,1811939655...1811939664,1811939667...1811939680,1811939682,1811939683,1811939685,1811939687...1811939704,1811939707,1811939708,1811939710,1811939712...1811939717,1811939719,1811939720,1811939722...1811939730,1925185537,1925185538,1925185540...1925185542,1925185572,1925185570,1925185545,1925185547,1925185548,1925185569,1925185552,1925185554,1925185556,1925185562,1925185573,1925185563...1925185567,1925185578...1925185581,1925185583,1925185586...1925185597&date=latestMINUS4&variable=197,202,1339...1348,558,564,1541...1565,72,74&measures=20599,21001,21002,21003'\n",
    "\n",
    "df = pd.read_csv(url)\n",
    "df = df[['DATE','GEOGRAPHY_NAME','GEOGRAPHY_CODE','GEOGRAPHY_TYPE','MEASURES_NAME','VARIABLE_NAME','OBS_VALUE']]\n",
    "df = df[df['GEOGRAPHY_CODE'].str.contains(\"E\")]\n",
    "df['VARIABLE_NAME'].unique()"
   ]
  },
  {
   "cell_type": "code",
   "execution_count": 24,
   "metadata": {},
   "outputs": [
    {
     "output_type": "execute_result",
     "data": {
      "text/plain": [
       "array(['Full Time Workers', 'Part Time Workers'], dtype=object)"
      ]
     },
     "metadata": {},
     "execution_count": 24
    }
   ],
   "source": [
    "# NOMIS - annual survey of hours and earnings - workplace analysis\n",
    "url = 'https://www.nomisweb.co.uk/api/v01/dataset/NM_99_1.data.csv?geography=1807745025...1807745028,1807745030...1807745032,1807745034...1807745083,1807745085,1807745282,1807745283,1807745086...1807745155,1807745157...1807745164,1807745166...1807745170,1807745172...1807745177,1807745179...1807745194,1807745196,1807745197,1807745199,1807745201...1807745218,1807745221,1807745222,1807745224,1807745226...1807745231,1807745233,1807745234,1807745236...1807745244,1811939329...1811939332,1811939334...1811939336,1811939338...1811939428,1811939436...1811939442,1811939768,1811939769,1811939443...1811939497,1811939499...1811939501,1811939503,1811939505...1811939507,1811939509...1811939517,1811939519,1811939520,1811939524...1811939570,1811939575...1811939599,1811939601...1811939628,1811939630...1811939634,1811939636...1811939647,1811939649,1811939655...1811939664,1811939667...1811939680,1811939682,1811939683,1811939685,1811939687...1811939704,1811939707,1811939708,1811939710,1811939712...1811939717,1811939719,1811939720,1811939722...1811939730&date=latestMINUS1&sex=8,9&item=2&pay=1,7&measures=20100,20701'\n",
    "\n",
    "df = pd.read_csv(url)\n",
    "df = df[['DATE','GEOGRAPHY_NAME','GEOGRAPHY_CODE','GEOGRAPHY_TYPE','SEX_NAME','PAY_NAME','MEASURES_NAME','OBS_VALUE']]\n",
    "df = df[df['GEOGRAPHY_CODE'].str.contains(\"E\")]\n",
    "df['SEX_NAME'].unique()"
   ]
  },
  {
   "cell_type": "code",
   "execution_count": 25,
   "metadata": {},
   "outputs": [
    {
     "output_type": "execute_result",
     "data": {
      "text/plain": [
       "array(['Total jobs', 'Jobs density'], dtype=object)"
      ]
     },
     "metadata": {},
     "execution_count": 25
    }
   ],
   "source": [
    "# NOMIS - jobs density\n",
    "url = 'https://www.nomisweb.co.uk/api/v01/dataset/NM_57_1.data.csv?geography=1807745025...1807745028,1807745030...1807745032,1807745034...1807745083,1807745085,1807745282,1807745283,1807745086...1807745155,1807745157...1807745164,1807745166...1807745170,1807745172...1807745177,1807745179...1807745194,1807745196,1807745197,1807745199,1807745201...1807745218,1807745221,1807745222,1807745224,1807745226...1807745231,1807745233,1807745234,1807745236...1807745244,1807745271...1807745281,1811939329...1811939332,1811939334...1811939336,1811939338...1811939428,1811939436...1811939442,1811939768,1811939769,1811939443...1811939497,1811939499...1811939501,1811939503,1811939505...1811939507,1811939509...1811939517,1811939519,1811939520,1811939524...1811939570,1811939575...1811939599,1811939601...1811939628,1811939630...1811939634,1811939636...1811939647,1811939649,1811939655...1811939664,1811939667...1811939680,1811939682,1811939683,1811939685,1811939687...1811939704,1811939707,1811939708,1811939710,1811939712...1811939717,1811939719,1811939720,1811939722...1811939730,1811939757...1811939767&date=latest&item=1,3&measures=20100'\n",
    "\n",
    "df = pd.read_csv(url)\n",
    "df = df[['DATE','GEOGRAPHY_NAME','GEOGRAPHY_CODE','GEOGRAPHY_TYPE','ITEM_NAME','MEASURES_NAME','OBS_VALUE']]\n",
    "df = df[df['GEOGRAPHY_CODE'].str.contains(\"E\")]\n",
    "df['ITEM_NAME'].unique()"
   ]
  },
  {
   "cell_type": "code",
   "execution_count": 26,
   "metadata": {},
   "outputs": [
    {
     "output_type": "execute_result",
     "data": {
      "text/plain": [
       "array(['Claimant count',\n",
       "       'Claimants as a proportion of residents aged 16-64',\n",
       "       'Claimants as a proportion of economically active residents aged 16+',\n",
       "       'Claimants as a proportion of the workforce'], dtype=object)"
      ]
     },
     "metadata": {},
     "execution_count": 26
    }
   ],
   "source": [
    "# NOMIS - Claimant count\n",
    "url = 'https://www.nomisweb.co.uk/api/v01/dataset/NM_162_1.data.csv?geography=1807745025...1807745028,1807745030...1807745032,1807745034...1807745083,1807745085,1807745282,1807745283,1807745086...1807745155,1807745157...1807745164,1807745166...1807745170,1807745172...1807745177,1807745179...1807745194,1807745196,1807745197,1807745199,1807745201...1807745218,1807745221,1807745222,1807745224,1807745226...1807745231,1807745233,1807745234,1807745236...1807745244,1807745271...1807745281,1811939329...1811939332,1811939334...1811939336,1811939338...1811939428,1811939436...1811939442,1811939768,1811939769,1811939443...1811939497,1811939499...1811939501,1811939503,1811939505...1811939507,1811939509...1811939517,1811939519,1811939520,1811939524...1811939570,1811939575...1811939599,1811939601...1811939628,1811939630...1811939634,1811939636...1811939647,1811939649,1811939655...1811939664,1811939667...1811939680,1811939682,1811939683,1811939685,1811939687...1811939704,1811939707,1811939708,1811939710,1811939712...1811939717,1811939719,1811939720,1811939722...1811939730,1811939757...1811939767&date=latestMINUS27,latestMINUS26,latestMINUS25,latestMINUS24,latestMINUS23,latestMINUS22,latestMINUS21,latestMINUS20,latestMINUS19,latestMINUS18,latestMINUS17,latestMINUS16&gender=0&age=0&measure=1...4&measures=20100'\n",
    "\n",
    "df = pd.read_csv(url)\n",
    "df = df[['DATE','GEOGRAPHY_NAME','GEOGRAPHY_CODE','GEOGRAPHY_TYPE','MEASURE_NAME','OBS_VALUE']]\n",
    "df = df[df['GEOGRAPHY_CODE'].str.contains(\"E\")]\n",
    "df['MEASURE_NAME'].unique()"
   ]
  },
  {
   "cell_type": "code",
   "execution_count": null,
   "metadata": {},
   "outputs": [],
   "source": []
  }
 ]
}