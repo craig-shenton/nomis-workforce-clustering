{
 "metadata": {
  "language_info": {
   "codemirror_mode": {
    "name": "ipython",
    "version": 3
   },
   "file_extension": ".py",
   "mimetype": "text/x-python",
   "name": "python",
   "nbconvert_exporter": "python",
   "pygments_lexer": "ipython3",
   "version": "3.9.5"
  },
  "orig_nbformat": 2,
  "kernelspec": {
   "name": "python395jvsc74a57bd09482e6b08417a547e39716b9af11f29f02494ba6fdc07e57d03cb8a19793fcde",
   "display_name": "Python 3.9.5 64-bit (windows store)"
  },
  "metadata": {
   "interpreter": {
    "hash": "9482e6b08417a547e39716b9af11f29f02494ba6fdc07e57d03cb8a19793fcde"
   }
  }
 },
 "nbformat": 4,
 "nbformat_minor": 2,
 "cells": [
  {
   "cell_type": "code",
   "execution_count": 27,
   "metadata": {},
   "outputs": [],
   "source": [
    "import pandas as pd\n",
    "import numpy as np\n",
    "import requests\n",
    "import json"
   ]
  },
  {
   "cell_type": "code",
   "execution_count": 21,
   "metadata": {},
   "outputs": [
    {
     "output_type": "execute_result",
     "data": {
      "text/plain": [
       "array(['All ages', 'Aged 16 - 64', 'Aged 65 and over'], dtype=object)"
      ]
     },
     "metadata": {},
     "execution_count": 21
    }
   ],
   "source": [
    "# NOMIS API - Population estimates - local authority based by five year age band\n",
    "url = 'https://www.nomisweb.co.uk/api/v01/dataset/NM_31_1.data.csv?geography=1811939329...1811939332,1811939334...1811939336,1811939338...1811939428,1811939436...1811939442,1811939768,1811939769,1811939443...1811939497,1811939499...1811939501,1811939503,1811939505...1811939507,1811939509...1811939517,1811939519,1811939520,1811939524...1811939570,1811939575...1811939599,1811939601...1811939628,1811939630...1811939634,1811939636...1811939647,1811939649,1811939655...1811939664,1811939667...1811939680,1811939682,1811939683,1811939685,1811939687...1811939704,1811939707,1811939708,1811939710,1811939712...1811939717,1811939719,1811939720,1811939722...1811939730,1811939757...1811939767,1807745025...1807745028,1807745030...1807745032,1807745034...1807745083,1807745085,1807745282,1807745283,1807745086...1807745155,1807745157...1807745164,1807745166...1807745170,1807745172...1807745177,1807745179...1807745194,1807745196,1807745197,1807745199,1807745201...1807745218,1807745221,1807745222,1807745224,1807745226...1807745231,1807745233,1807745234,1807745236...1807745244,1807745271...1807745281,1853882369...1853882372,1853882374...1853882379&date=latest&sex=7&age=0,22,25&measures=20100,20301'\n",
    "\n",
    "df = pd.read_csv(url)\n",
    "df = df[['DATE','GEOGRAPHY_NAME','GEOGRAPHY_CODE','GEOGRAPHY_TYPE','AGE_NAME','MEASURES_NAME','OBS_VALUE']]\n",
    "df = df[df['GEOGRAPHY_CODE'].str.contains(\"E\")]\n",
    "df['AGE_NAME'].unique()"
   ]
  },
  {
   "cell_type": "code",
   "execution_count": 19,
   "metadata": {},
   "outputs": [
    {
     "output_type": "execute_result",
     "data": {
      "text/plain": [
       "array(['Economic activity rate - aged 16-64',\n",
       "       'Employment rate - aged 16-64', '% aged 16-64 who are employees',\n",
       "       '% aged 16-64 who are self employed',\n",
       "       'Unemployment rate - aged 16-64 ', 'Unemployment rate - aged 16+',\n",
       "       '% who are economically inactive - aged 16-64',\n",
       "       '% of economically inactive who want a job',\n",
       "       '% of economically inactive who do not want a job',\n",
       "       '% all in employment who are - 1: managers, directors and senior officials (SOC2010)',\n",
       "       '% all in employment who are - 2: professional occupations (SOC2010)',\n",
       "       '% all in employment who are - 3: associate prof & tech occupations (SOC2010)',\n",
       "       '% all in employment who are - 4: administrative and secretarial occupations (SOC2010)',\n",
       "       '% all in employment who are - 5: skilled trades occupations (SOC2010)',\n",
       "       '% all in employment who are - 6: caring, leisure and other service occupations (SOC2010)',\n",
       "       '% all in employment who are - 7: sales and customer service occupations (SOC2010)',\n",
       "       '% all in employment who are - 8: process, plant and machine operatives (SOC2010)',\n",
       "       '% all in employment who are - 9: elementary occupations (SOC2010)',\n",
       "       '% with NVQ4+ - aged 16-64', '% with NVQ3+ - aged 16-64',\n",
       "       '% with NVQ2+ - aged 16-64', '% with NVQ1+ - aged 16-64',\n",
       "       '% with other qualifications (NVQ) - aged 16-64',\n",
       "       '% with no qualifications (NVQ) - aged 16-64'], dtype=object)"
      ]
     },
     "metadata": {},
     "execution_count": 19
    }
   ],
   "source": [
    "# NOMIS - annual population survey\n",
    "url = 'https://www.nomisweb.co.uk/api/v01/dataset/NM_17_5.data.csv?geography=1853882369...1853882372,1853882374...1853882379,1807745025...1807745028,1807745030...1807745032,1807745034...1807745083,1807745085,1807745282,1807745283,1807745086...1807745155,1807745157...1807745164,1807745166...1807745170,1807745172...1807745177,1807745179...1807745194,1807745196,1807745197,1807745199,1807745201...1807745218,1807745221,1807745222,1807745224,1807745226...1807745231,1807745233,1807745234,1807745236...1807745244,1811939329...1811939332,1811939334...1811939336,1811939338...1811939428,1811939436...1811939442,1811939768,1811939769,1811939443...1811939497,1811939499...1811939501,1811939503,1811939505...1811939507,1811939509...1811939517,1811939519,1811939520,1811939524...1811939570,1811939575...1811939599,1811939601...1811939628,1811939630...1811939634,1811939636...1811939647,1811939649,1811939655...1811939664,1811939667...1811939680,1811939682,1811939683,1811939685,1811939687...1811939704,1811939707,1811939708,1811939710,1811939712...1811939717,1811939719,1811939720,1811939722...1811939730&date=latestMINUS4&variable=18,45,248,249,84,83,111,1487,1488,1532...1540,290,720...722,335,344&measures=20599,21001,21002,21003'\n",
    "\n",
    "df = pd.read_csv(url)\n",
    "df = df[['DATE','GEOGRAPHY_NAME','GEOGRAPHY_CODE','GEOGRAPHY_TYPE','MEASURES_NAME','VARIABLE_NAME','OBS_VALUE']]\n",
    "df = df[df['GEOGRAPHY_CODE'].str.contains(\"E\")]\n",
    "df['VARIABLE_NAME'].unique()"
   ]
  },
  {
   "cell_type": "code",
   "execution_count": 20,
   "metadata": {},
   "outputs": [
    {
     "output_type": "execute_result",
     "data": {
      "text/plain": [
       "array(['% in employment working full-time - aged 16-64',\n",
       "       '% in employment working part-time - aged 16-64',\n",
       "       '% aged 16-64 in employment who work in - A:agriculture and fishing (SIC 2007)',\n",
       "       '% aged 16-64 in employment who work in - B,D,E:energy and water (SIC 2007)',\n",
       "       '% aged 16-64 in employment who work in - C:manufacturing (SIC 2007)',\n",
       "       '% aged 16-64 in employment who work in - F:construction (SIC 2007)',\n",
       "       '% aged 16-64 in employment who work in - G,I:distribution, hotels and restaurants (SIC 2007)',\n",
       "       '% aged 16-64 in employment who work in - H,J:transport and communications (SIC 2007)',\n",
       "       '% aged 16-64 in employment who work in - K-N:banking, finance and insurance (SIC 2007)',\n",
       "       '% aged 16-64 in employment who work in - O-Q:public admin. education and health (SIC 2007)',\n",
       "       '% aged 16-64 in employment who work in - R-U:other services (SIC 2007)',\n",
       "       '% aged 16-64 in employment who work in - G-U:total services (SIC 2007)',\n",
       "       '% of white - aged 16-64', '% of ethnic minority - aged 16-64',\n",
       "       '% all in employment who are - 11: corporate managers and directors (SOC2010)',\n",
       "       '% all in employment who are - 12: other managers and proprietors (SOC2010)',\n",
       "       '% all in employment who are - 21: science, research, engineering and technology profs (SOC2010)',\n",
       "       '% all in employment who are - 22: health professionals (SOC2010)',\n",
       "       '% all in employment who are - 23: teaching and educational professionals (SOC2010)',\n",
       "       '% all in employment who are - 24: business, media and public service professionals (SOC2010)',\n",
       "       '% all in employment who are - 31: science, engineering and technology associate profs (SOC2010)',\n",
       "       '% all in employment who are - 32: health & social care assoc. professionals (SOC2010)',\n",
       "       '% all in employment who are - 33: protective service occupations (SOC2010)',\n",
       "       '% all in employment who are - 34: culture, media and sports occupations (SOC2010)',\n",
       "       '% all in employment who are - 35: business & public service assoc. professionals (SOC2010)',\n",
       "       '% all in employment who are - 41: administrative occupations (SOC2010)',\n",
       "       '% all in employment who are - 42: secretarial and related occupations (SOC2010)',\n",
       "       '% all in employment who are - 51: skilled agricultural and related trades (SOC2010)',\n",
       "       '% all in employment who are - 52: skilled metal, electrical and electronic trades (SOC2010)',\n",
       "       '% all in employment who are - 53: skilled construction and building trades (SOC2010)',\n",
       "       '% all in employment who are - 54: textiles, printing and other skilled trades (SOC2010)',\n",
       "       '% all in employment who are - 61: caring personal service occupations (SOC2010)',\n",
       "       '% all in employment who are - 62: leisure, travel and related personal service occs (SOC2010)',\n",
       "       '% all in employment who are - 71: sales occupations (SOC2010)',\n",
       "       '% all in employment who are - 72: customer service occupations (SOC2010)',\n",
       "       '% all in employment who are - 81: process, plant and machines operatives (SOC2010)',\n",
       "       '% all in employment who are - 82: transport & mobile machine drivers/operatives (SOC2010)',\n",
       "       '% all in employment who are - 91: elementary trades and related occupations (SOC2010)',\n",
       "       '% all in employment who are - 92: elementary administration & service occs (SOC2010)',\n",
       "       '% in employment who are employees - aged 16-64',\n",
       "       '% in employment who are self employed - aged 16-64'], dtype=object)"
      ]
     },
     "metadata": {},
     "execution_count": 20
    }
   ],
   "source": [
    "# NOMIS - annual population survey (detail)\n",
    "url = 'https://www.nomisweb.co.uk/api/v01/dataset/NM_17_5.data.csv?geography=1811939329...1811939332,1811939334...1811939336,1811939338...1811939428,1811939436...1811939442,1811939768,1811939769,1811939443...1811939497,1811939499...1811939501,1811939503,1811939505...1811939507,1811939509...1811939517,1811939519,1811939520,1811939524...1811939570,1811939575...1811939599,1811939601...1811939628,1811939630...1811939634,1811939636...1811939647,1811939649,1811939655...1811939664,1811939667...1811939680,1811939682,1811939683,1811939685,1811939687...1811939704,1811939707,1811939708,1811939710,1811939712...1811939717,1811939719,1811939720,1811939722...1811939730,1925185537,1925185538,1925185540...1925185542,1925185572,1925185570,1925185545,1925185547,1925185548,1925185569,1925185552,1925185554,1925185556,1925185562,1925185573,1925185563...1925185567,1925185578...1925185581,1925185583,1925185586...1925185597&date=latestMINUS4&variable=197,202,1339...1348,558,564,1541...1565,72,74&measures=20599,21001,21002,21003'\n",
    "\n",
    "df = pd.read_csv(url)\n",
    "df = df[['DATE','GEOGRAPHY_NAME','GEOGRAPHY_CODE','GEOGRAPHY_TYPE','MEASURES_NAME','VARIABLE_NAME','OBS_VALUE']]\n",
    "df = df[df['GEOGRAPHY_CODE'].str.contains(\"E\")]\n",
    "df['VARIABLE_NAME'].unique()"
   ]
  },
  {
   "cell_type": "code",
   "execution_count": 24,
   "metadata": {},
   "outputs": [
    {
     "output_type": "execute_result",
     "data": {
      "text/plain": [
       "array(['Full Time Workers', 'Part Time Workers'], dtype=object)"
      ]
     },
     "metadata": {},
     "execution_count": 24
    }
   ],
   "source": [
    "# NOMIS - annual survey of hours and earnings - workplace analysis\n",
    "url = 'https://www.nomisweb.co.uk/api/v01/dataset/NM_99_1.data.csv?geography=1807745025...1807745028,1807745030...1807745032,1807745034...1807745083,1807745085,1807745282,1807745283,1807745086...1807745155,1807745157...1807745164,1807745166...1807745170,1807745172...1807745177,1807745179...1807745194,1807745196,1807745197,1807745199,1807745201...1807745218,1807745221,1807745222,1807745224,1807745226...1807745231,1807745233,1807745234,1807745236...1807745244,1811939329...1811939332,1811939334...1811939336,1811939338...1811939428,1811939436...1811939442,1811939768,1811939769,1811939443...1811939497,1811939499...1811939501,1811939503,1811939505...1811939507,1811939509...1811939517,1811939519,1811939520,1811939524...1811939570,1811939575...1811939599,1811939601...1811939628,1811939630...1811939634,1811939636...1811939647,1811939649,1811939655...1811939664,1811939667...1811939680,1811939682,1811939683,1811939685,1811939687...1811939704,1811939707,1811939708,1811939710,1811939712...1811939717,1811939719,1811939720,1811939722...1811939730&date=latestMINUS1&sex=8,9&item=2&pay=1,7&measures=20100,20701'\n",
    "\n",
    "df = pd.read_csv(url)\n",
    "df = df[['DATE','GEOGRAPHY_NAME','GEOGRAPHY_CODE','GEOGRAPHY_TYPE','SEX_NAME','PAY_NAME','MEASURES_NAME','OBS_VALUE']]\n",
    "df = df[df['GEOGRAPHY_CODE'].str.contains(\"E\")]\n",
    "df['SEX_NAME'].unique()"
   ]
  },
  {
   "cell_type": "code",
   "execution_count": 25,
   "metadata": {},
   "outputs": [
    {
     "output_type": "execute_result",
     "data": {
      "text/plain": [
       "array(['Total jobs', 'Jobs density'], dtype=object)"
      ]
     },
     "metadata": {},
     "execution_count": 25
    }
   ],
   "source": [
    "# NOMIS - jobs density\n",
    "url = 'https://www.nomisweb.co.uk/api/v01/dataset/NM_57_1.data.csv?geography=1807745025...1807745028,1807745030...1807745032,1807745034...1807745083,1807745085,1807745282,1807745283,1807745086...1807745155,1807745157...1807745164,1807745166...1807745170,1807745172...1807745177,1807745179...1807745194,1807745196,1807745197,1807745199,1807745201...1807745218,1807745221,1807745222,1807745224,1807745226...1807745231,1807745233,1807745234,1807745236...1807745244,1807745271...1807745281,1811939329...1811939332,1811939334...1811939336,1811939338...1811939428,1811939436...1811939442,1811939768,1811939769,1811939443...1811939497,1811939499...1811939501,1811939503,1811939505...1811939507,1811939509...1811939517,1811939519,1811939520,1811939524...1811939570,1811939575...1811939599,1811939601...1811939628,1811939630...1811939634,1811939636...1811939647,1811939649,1811939655...1811939664,1811939667...1811939680,1811939682,1811939683,1811939685,1811939687...1811939704,1811939707,1811939708,1811939710,1811939712...1811939717,1811939719,1811939720,1811939722...1811939730,1811939757...1811939767&date=latest&item=1,3&measures=20100'\n",
    "\n",
    "df = pd.read_csv(url)\n",
    "df = df[['DATE','GEOGRAPHY_NAME','GEOGRAPHY_CODE','GEOGRAPHY_TYPE','ITEM_NAME','MEASURES_NAME','OBS_VALUE']]\n",
    "df = df[df['GEOGRAPHY_CODE'].str.contains(\"E\")]\n",
    "df['ITEM_NAME'].unique()"
   ]
  },
  {
   "cell_type": "code",
   "execution_count": 26,
   "metadata": {},
   "outputs": [
    {
     "output_type": "execute_result",
     "data": {
      "text/plain": [
       "array(['Claimant count',\n",
       "       'Claimants as a proportion of residents aged 16-64',\n",
       "       'Claimants as a proportion of economically active residents aged 16+',\n",
       "       'Claimants as a proportion of the workforce'], dtype=object)"
      ]
     },
     "metadata": {},
     "execution_count": 26
    }
   ],
   "source": [
    "# NOMIS - Claimant count\n",
    "url = 'https://www.nomisweb.co.uk/api/v01/dataset/NM_162_1.data.csv?geography=1807745025...1807745028,1807745030...1807745032,1807745034...1807745083,1807745085,1807745282,1807745283,1807745086...1807745155,1807745157...1807745164,1807745166...1807745170,1807745172...1807745177,1807745179...1807745194,1807745196,1807745197,1807745199,1807745201...1807745218,1807745221,1807745222,1807745224,1807745226...1807745231,1807745233,1807745234,1807745236...1807745244,1807745271...1807745281,1811939329...1811939332,1811939334...1811939336,1811939338...1811939428,1811939436...1811939442,1811939768,1811939769,1811939443...1811939497,1811939499...1811939501,1811939503,1811939505...1811939507,1811939509...1811939517,1811939519,1811939520,1811939524...1811939570,1811939575...1811939599,1811939601...1811939628,1811939630...1811939634,1811939636...1811939647,1811939649,1811939655...1811939664,1811939667...1811939680,1811939682,1811939683,1811939685,1811939687...1811939704,1811939707,1811939708,1811939710,1811939712...1811939717,1811939719,1811939720,1811939722...1811939730,1811939757...1811939767&date=latestMINUS27,latestMINUS26,latestMINUS25,latestMINUS24,latestMINUS23,latestMINUS22,latestMINUS21,latestMINUS20,latestMINUS19,latestMINUS18,latestMINUS17,latestMINUS16&gender=0&age=0&measure=1...4&measures=20100'\n",
    "\n",
    "df = pd.read_csv(url)\n",
    "df = df[['DATE','GEOGRAPHY_NAME','GEOGRAPHY_CODE','GEOGRAPHY_TYPE','MEASURE_NAME','OBS_VALUE']]\n",
    "df = df[df['GEOGRAPHY_CODE'].str.contains(\"E\")]\n",
    "df['MEASURE_NAME'].unique()"
   ]
  },
  {
   "cell_type": "code",
   "execution_count": 45,
   "metadata": {},
   "outputs": [
    {
     "output_type": "execute_result",
     "data": {
      "text/plain": [
       "     FID    LAD19CD                LAD19NM    CTY19CD     CTY19NM  \\\n",
       "0      1  E07000120               Hyndburn  E10000017  Lancashire   \n",
       "1      2  E07000121              Lancaster  E10000017  Lancashire   \n",
       "2      3  E07000122                 Pendle  E10000017  Lancashire   \n",
       "3      4  E07000123                Preston  E10000017  Lancashire   \n",
       "4      5  E07000124          Ribble Valley  E10000017  Lancashire   \n",
       "..   ...        ...                    ...        ...         ...   \n",
       "256  257  E07000115  Tonbridge and Malling  E10000016        Kent   \n",
       "257  258  E07000116        Tunbridge Wells  E10000016        Kent   \n",
       "258  259  E07000117                Burnley  E10000017  Lancashire   \n",
       "259  260  E07000118                Chorley  E10000017  Lancashire   \n",
       "260  261  E07000119                  Fylde  E10000017  Lancashire   \n",
       "\n",
       "     london_min_wage  \n",
       "0              False  \n",
       "1              False  \n",
       "2              False  \n",
       "3              False  \n",
       "4              False  \n",
       "..               ...  \n",
       "256            False  \n",
       "257            False  \n",
       "258            False  \n",
       "259            False  \n",
       "260            False  \n",
       "\n",
       "[261 rows x 6 columns]"
      ],
      "text/html": "<div>\n<style scoped>\n    .dataframe tbody tr th:only-of-type {\n        vertical-align: middle;\n    }\n\n    .dataframe tbody tr th {\n        vertical-align: top;\n    }\n\n    .dataframe thead th {\n        text-align: right;\n    }\n</style>\n<table border=\"1\" class=\"dataframe\">\n  <thead>\n    <tr style=\"text-align: right;\">\n      <th></th>\n      <th>FID</th>\n      <th>LAD19CD</th>\n      <th>LAD19NM</th>\n      <th>CTY19CD</th>\n      <th>CTY19NM</th>\n      <th>london_min_wage</th>\n    </tr>\n  </thead>\n  <tbody>\n    <tr>\n      <th>0</th>\n      <td>1</td>\n      <td>E07000120</td>\n      <td>Hyndburn</td>\n      <td>E10000017</td>\n      <td>Lancashire</td>\n      <td>False</td>\n    </tr>\n    <tr>\n      <th>1</th>\n      <td>2</td>\n      <td>E07000121</td>\n      <td>Lancaster</td>\n      <td>E10000017</td>\n      <td>Lancashire</td>\n      <td>False</td>\n    </tr>\n    <tr>\n      <th>2</th>\n      <td>3</td>\n      <td>E07000122</td>\n      <td>Pendle</td>\n      <td>E10000017</td>\n      <td>Lancashire</td>\n      <td>False</td>\n    </tr>\n    <tr>\n      <th>3</th>\n      <td>4</td>\n      <td>E07000123</td>\n      <td>Preston</td>\n      <td>E10000017</td>\n      <td>Lancashire</td>\n      <td>False</td>\n    </tr>\n    <tr>\n      <th>4</th>\n      <td>5</td>\n      <td>E07000124</td>\n      <td>Ribble Valley</td>\n      <td>E10000017</td>\n      <td>Lancashire</td>\n      <td>False</td>\n    </tr>\n    <tr>\n      <th>...</th>\n      <td>...</td>\n      <td>...</td>\n      <td>...</td>\n      <td>...</td>\n      <td>...</td>\n      <td>...</td>\n    </tr>\n    <tr>\n      <th>256</th>\n      <td>257</td>\n      <td>E07000115</td>\n      <td>Tonbridge and Malling</td>\n      <td>E10000016</td>\n      <td>Kent</td>\n      <td>False</td>\n    </tr>\n    <tr>\n      <th>257</th>\n      <td>258</td>\n      <td>E07000116</td>\n      <td>Tunbridge Wells</td>\n      <td>E10000016</td>\n      <td>Kent</td>\n      <td>False</td>\n    </tr>\n    <tr>\n      <th>258</th>\n      <td>259</td>\n      <td>E07000117</td>\n      <td>Burnley</td>\n      <td>E10000017</td>\n      <td>Lancashire</td>\n      <td>False</td>\n    </tr>\n    <tr>\n      <th>259</th>\n      <td>260</td>\n      <td>E07000118</td>\n      <td>Chorley</td>\n      <td>E10000017</td>\n      <td>Lancashire</td>\n      <td>False</td>\n    </tr>\n    <tr>\n      <th>260</th>\n      <td>261</td>\n      <td>E07000119</td>\n      <td>Fylde</td>\n      <td>E10000017</td>\n      <td>Lancashire</td>\n      <td>False</td>\n    </tr>\n  </tbody>\n</table>\n<p>261 rows × 6 columns</p>\n</div>"
     },
     "metadata": {},
     "execution_count": 45
    }
   ],
   "source": [
    "# London Min Wage\n",
    "url = 'https://opendata.arcgis.com/datasets/79c993a10398400bb025a00849a43dc0_0.csv'\n",
    "\n",
    "df = pd.read_csv(url)\n",
    "df['london_min_wage'] = np.where((df['CTY19NM'] == 'Inner London') | (df['CTY19NM'] == 'Outer London'), True, False)\n",
    "df"
   ]
  },
  {
   "cell_type": "code",
   "execution_count": 77,
   "metadata": {},
   "outputs": [
    {
     "output_type": "stream",
     "name": "stderr",
     "text": [
      "C:\\Users\\Craig\\AppData\\Local\\Packages\\PythonSoftwareFoundation.Python.3.9_qbz5n2kfra8p0\\LocalCache\\local-packages\\Python39\\site-packages\\IPython\\core\\interactiveshell.py:3165: DtypeWarning: Columns (7) have mixed types.Specify dtype option on import or set low_memory=False.\n  has_raised = await self.run_ast_nodes(code_ast.body, cell_name,\n"
     ]
    }
   ],
   "source": [
    "# 2011 to 2019 LAD Map\n",
    "url = 'https://opendata.arcgis.com/datasets/0b3c76d1eb5e4ffd98a3679ab8dea605_0.csv'\n",
    "\n",
    "df = pd.read_csv(url)\n",
    "\n",
    "url = 'https://opendata.arcgis.com/datasets/6ecda95a83304543bc8feedbd1a58303_0.csv'\n",
    "\n",
    "df1 = pd.read_csv(url)"
   ]
  },
  {
   "cell_type": "code",
   "execution_count": 78,
   "metadata": {},
   "outputs": [
    {
     "output_type": "stream",
     "name": "stdout",
     "text": [
      "21603\n21603\n"
     ]
    },
    {
     "output_type": "execute_result",
     "data": {
      "text/plain": [
       "        LAD11CD                LAD11NM    LAD19CD  \\\n",
       "1200  E06000029                  Poole  E06000058   \n",
       "1206  E06000028            Bournemouth  E06000058   \n",
       "1222  E07000050           North Dorset  E06000059   \n",
       "1223  E07000052            West Dorset  E06000059   \n",
       "1230  E07000049            East Dorset  E06000059   \n",
       "1240  E07000053  Weymouth and Portland  E06000059   \n",
       "1243  E07000051                Purbeck  E06000059   \n",
       "1375  E06000048         Northumberland  E06000057   \n",
       "1543  E07000048           Christchurch  E06000058   \n",
       "4001  E07000206                Waveney  E07000244   \n",
       "4012  E07000104        Welwyn Hatfield  E07000241   \n",
       "4112  E07000205        Suffolk Coastal  E07000244   \n",
       "4116  E07000097     East Hertfordshire  E07000242   \n",
       "4134  E07000101              Stevenage  E07000243   \n",
       "4177  E07000100              St Albans  E07000240   \n",
       "4219  E07000204         St Edmundsbury  E07000245   \n",
       "4221  E07000201           Forest Heath  E07000245   \n",
       "4240  E07000190          Taunton Deane  E07000246   \n",
       "4244  E07000191          West Somerset  E07000246   \n",
       "5681  E08000020              Gateshead  E08000037   \n",
       "\n",
       "                                  LAD19NM   comp  \n",
       "1200  Bournemouth, Christchurch and Poole  False  \n",
       "1206  Bournemouth, Christchurch and Poole  False  \n",
       "1222                               Dorset  False  \n",
       "1223                               Dorset  False  \n",
       "1230                               Dorset  False  \n",
       "1240                               Dorset  False  \n",
       "1243                               Dorset  False  \n",
       "1375                       Northumberland  False  \n",
       "1543  Bournemouth, Christchurch and Poole  False  \n",
       "4001                         East Suffolk  False  \n",
       "4012                      Welwyn Hatfield  False  \n",
       "4112                         East Suffolk  False  \n",
       "4116                   East Hertfordshire  False  \n",
       "4134                            Stevenage  False  \n",
       "4177                            St Albans  False  \n",
       "4219                         West Suffolk  False  \n",
       "4221                         West Suffolk  False  \n",
       "4240            Somerset West and Taunton  False  \n",
       "4244            Somerset West and Taunton  False  \n",
       "5681                            Gateshead  False  "
      ],
      "text/html": "<div>\n<style scoped>\n    .dataframe tbody tr th:only-of-type {\n        vertical-align: middle;\n    }\n\n    .dataframe tbody tr th {\n        vertical-align: top;\n    }\n\n    .dataframe thead th {\n        text-align: right;\n    }\n</style>\n<table border=\"1\" class=\"dataframe\">\n  <thead>\n    <tr style=\"text-align: right;\">\n      <th></th>\n      <th>LAD11CD</th>\n      <th>LAD11NM</th>\n      <th>LAD19CD</th>\n      <th>LAD19NM</th>\n      <th>comp</th>\n    </tr>\n  </thead>\n  <tbody>\n    <tr>\n      <th>1200</th>\n      <td>E06000029</td>\n      <td>Poole</td>\n      <td>E06000058</td>\n      <td>Bournemouth, Christchurch and Poole</td>\n      <td>False</td>\n    </tr>\n    <tr>\n      <th>1206</th>\n      <td>E06000028</td>\n      <td>Bournemouth</td>\n      <td>E06000058</td>\n      <td>Bournemouth, Christchurch and Poole</td>\n      <td>False</td>\n    </tr>\n    <tr>\n      <th>1222</th>\n      <td>E07000050</td>\n      <td>North Dorset</td>\n      <td>E06000059</td>\n      <td>Dorset</td>\n      <td>False</td>\n    </tr>\n    <tr>\n      <th>1223</th>\n      <td>E07000052</td>\n      <td>West Dorset</td>\n      <td>E06000059</td>\n      <td>Dorset</td>\n      <td>False</td>\n    </tr>\n    <tr>\n      <th>1230</th>\n      <td>E07000049</td>\n      <td>East Dorset</td>\n      <td>E06000059</td>\n      <td>Dorset</td>\n      <td>False</td>\n    </tr>\n    <tr>\n      <th>1240</th>\n      <td>E07000053</td>\n      <td>Weymouth and Portland</td>\n      <td>E06000059</td>\n      <td>Dorset</td>\n      <td>False</td>\n    </tr>\n    <tr>\n      <th>1243</th>\n      <td>E07000051</td>\n      <td>Purbeck</td>\n      <td>E06000059</td>\n      <td>Dorset</td>\n      <td>False</td>\n    </tr>\n    <tr>\n      <th>1375</th>\n      <td>E06000048</td>\n      <td>Northumberland</td>\n      <td>E06000057</td>\n      <td>Northumberland</td>\n      <td>False</td>\n    </tr>\n    <tr>\n      <th>1543</th>\n      <td>E07000048</td>\n      <td>Christchurch</td>\n      <td>E06000058</td>\n      <td>Bournemouth, Christchurch and Poole</td>\n      <td>False</td>\n    </tr>\n    <tr>\n      <th>4001</th>\n      <td>E07000206</td>\n      <td>Waveney</td>\n      <td>E07000244</td>\n      <td>East Suffolk</td>\n      <td>False</td>\n    </tr>\n    <tr>\n      <th>4012</th>\n      <td>E07000104</td>\n      <td>Welwyn Hatfield</td>\n      <td>E07000241</td>\n      <td>Welwyn Hatfield</td>\n      <td>False</td>\n    </tr>\n    <tr>\n      <th>4112</th>\n      <td>E07000205</td>\n      <td>Suffolk Coastal</td>\n      <td>E07000244</td>\n      <td>East Suffolk</td>\n      <td>False</td>\n    </tr>\n    <tr>\n      <th>4116</th>\n      <td>E07000097</td>\n      <td>East Hertfordshire</td>\n      <td>E07000242</td>\n      <td>East Hertfordshire</td>\n      <td>False</td>\n    </tr>\n    <tr>\n      <th>4134</th>\n      <td>E07000101</td>\n      <td>Stevenage</td>\n      <td>E07000243</td>\n      <td>Stevenage</td>\n      <td>False</td>\n    </tr>\n    <tr>\n      <th>4177</th>\n      <td>E07000100</td>\n      <td>St Albans</td>\n      <td>E07000240</td>\n      <td>St Albans</td>\n      <td>False</td>\n    </tr>\n    <tr>\n      <th>4219</th>\n      <td>E07000204</td>\n      <td>St Edmundsbury</td>\n      <td>E07000245</td>\n      <td>West Suffolk</td>\n      <td>False</td>\n    </tr>\n    <tr>\n      <th>4221</th>\n      <td>E07000201</td>\n      <td>Forest Heath</td>\n      <td>E07000245</td>\n      <td>West Suffolk</td>\n      <td>False</td>\n    </tr>\n    <tr>\n      <th>4240</th>\n      <td>E07000190</td>\n      <td>Taunton Deane</td>\n      <td>E07000246</td>\n      <td>Somerset West and Taunton</td>\n      <td>False</td>\n    </tr>\n    <tr>\n      <th>4244</th>\n      <td>E07000191</td>\n      <td>West Somerset</td>\n      <td>E07000246</td>\n      <td>Somerset West and Taunton</td>\n      <td>False</td>\n    </tr>\n    <tr>\n      <th>5681</th>\n      <td>E08000020</td>\n      <td>Gateshead</td>\n      <td>E08000037</td>\n      <td>Gateshead</td>\n      <td>False</td>\n    </tr>\n  </tbody>\n</table>\n</div>"
     },
     "metadata": {},
     "execution_count": 78
    }
   ],
   "source": [
    "df = df[['MSOA11CD','LAD19CD', 'LAD19NM']]\n",
    "df = df.drop_duplicates(subset=['MSOA11CD'])\n",
    "print(df.size)\n",
    "\n",
    "df1 = df1[['MSOA11CD','LAD11CD','LAD11NM']]\n",
    "df1 = df1.drop_duplicates(subset=['MSOA11CD'])\n",
    "print(df1.size)\n",
    "\n",
    "LAD2011_LAD2019 = pd.merge(df, df1, on=['MSOA11CD'])\n",
    "LAD2011_LAD2019 = LAD2011_LAD2019[['LAD11CD','LAD11NM','LAD19CD','LAD19NM']]\n",
    "LAD2011_LAD2019 = LAD2011_LAD2019.drop_duplicates(subset=['LAD11CD','LAD19CD'])\n",
    "LAD2011_LAD2019['comp'] = np.where(LAD2011_LAD2019['LAD11CD'] == LAD2011_LAD2019['LAD19CD'], True, False)\n",
    "LAD2011_LAD2019[LAD2011_LAD2019['comp'] == False]"
   ]
  },
  {
   "cell_type": "code",
   "execution_count": 79,
   "metadata": {},
   "outputs": [
    {
     "output_type": "execute_result",
     "data": {
      "text/plain": [
       "       LAD11CD               LAD11NM  RUC11CD  \\\n",
       "0    E06000001            Hartlepool        4   \n",
       "1    E06000002         Middlesbrough        4   \n",
       "2    E06000003  Redcar and Cleveland        3   \n",
       "3    E06000004      Stockton-on-Tees        4   \n",
       "4    E06000005            Darlington        4   \n",
       "..         ...                   ...      ...   \n",
       "321  E09000029                Sutton        6   \n",
       "322  E09000030         Tower Hamlets        6   \n",
       "323  E09000031        Waltham Forest        6   \n",
       "324  E09000032            Wandsworth        6   \n",
       "325  E09000033           Westminster        6   \n",
       "\n",
       "                                                 RUC11 Rural population1  \\\n",
       "0                             Urban with City and Town             3,173   \n",
       "1                             Urban with City and Town               957   \n",
       "2    Urban with Significant Rural (rural including ...            43,880   \n",
       "3                             Urban with City and Town             7,536   \n",
       "4                             Urban with City and Town            13,201   \n",
       "..                                                 ...               ...   \n",
       "321                       Urban with Major Conurbation                 0   \n",
       "322                       Urban with Major Conurbation                 0   \n",
       "323                       Urban with Major Conurbation                 0   \n",
       "324                       Urban with Major Conurbation                 0   \n",
       "325                       Urban with Major Conurbation                 0   \n",
       "\n",
       "    Hub towns (rural related) population1  \\\n",
       "0                                       0   \n",
       "1                                       0   \n",
       "2                                       0   \n",
       "3                                       0   \n",
       "4                                       0   \n",
       "..                                    ...   \n",
       "321                                     0   \n",
       "322                                     0   \n",
       "323                                     0   \n",
       "324                                     0   \n",
       "325                                     0   \n",
       "\n",
       "    Rural including hub towns (rural & rural related) population1  \\\n",
       "0                                                3,173              \n",
       "1                                                  957              \n",
       "2                                               43,880              \n",
       "3                                                7,536              \n",
       "4                                               13,201              \n",
       "..                                                 ...              \n",
       "321                                                  0              \n",
       "322                                                  0              \n",
       "323                                                  0              \n",
       "324                                                  0              \n",
       "325                                                  0              \n",
       "\n",
       "     Total population1  \\\n",
       "0               92,028   \n",
       "1              138,412   \n",
       "2              135,177   \n",
       "3              191,610   \n",
       "4              105,564   \n",
       "..                 ...   \n",
       "321            190,146   \n",
       "322            254,096   \n",
       "323            258,249   \n",
       "324            306,995   \n",
       "325            219,396   \n",
       "\n",
       "     Rural including hub towns (rural & rural related) population1   \n",
       "0                                                  3.4               \n",
       "1                                                  0.7               \n",
       "2                                                 32.5               \n",
       "3                                                  3.9               \n",
       "4                                                 12.5               \n",
       "..                                                 ...               \n",
       "321                                                0.0               \n",
       "322                                                0.0               \n",
       "323                                                0.0               \n",
       "324                                                0.0               \n",
       "325                                                0.0               \n",
       "\n",
       "[326 rows x 9 columns]"
      ],
      "text/html": "<div>\n<style scoped>\n    .dataframe tbody tr th:only-of-type {\n        vertical-align: middle;\n    }\n\n    .dataframe tbody tr th {\n        vertical-align: top;\n    }\n\n    .dataframe thead th {\n        text-align: right;\n    }\n</style>\n<table border=\"1\" class=\"dataframe\">\n  <thead>\n    <tr style=\"text-align: right;\">\n      <th></th>\n      <th>LAD11CD</th>\n      <th>LAD11NM</th>\n      <th>RUC11CD</th>\n      <th>RUC11</th>\n      <th>Rural population1</th>\n      <th>Hub towns (rural related) population1</th>\n      <th>Rural including hub towns (rural &amp; rural related) population1</th>\n      <th>Total population1</th>\n      <th>Rural including hub towns (rural &amp; rural related) population1</th>\n    </tr>\n  </thead>\n  <tbody>\n    <tr>\n      <th>0</th>\n      <td>E06000001</td>\n      <td>Hartlepool</td>\n      <td>4</td>\n      <td>Urban with City and Town</td>\n      <td>3,173</td>\n      <td>0</td>\n      <td>3,173</td>\n      <td>92,028</td>\n      <td>3.4</td>\n    </tr>\n    <tr>\n      <th>1</th>\n      <td>E06000002</td>\n      <td>Middlesbrough</td>\n      <td>4</td>\n      <td>Urban with City and Town</td>\n      <td>957</td>\n      <td>0</td>\n      <td>957</td>\n      <td>138,412</td>\n      <td>0.7</td>\n    </tr>\n    <tr>\n      <th>2</th>\n      <td>E06000003</td>\n      <td>Redcar and Cleveland</td>\n      <td>3</td>\n      <td>Urban with Significant Rural (rural including ...</td>\n      <td>43,880</td>\n      <td>0</td>\n      <td>43,880</td>\n      <td>135,177</td>\n      <td>32.5</td>\n    </tr>\n    <tr>\n      <th>3</th>\n      <td>E06000004</td>\n      <td>Stockton-on-Tees</td>\n      <td>4</td>\n      <td>Urban with City and Town</td>\n      <td>7,536</td>\n      <td>0</td>\n      <td>7,536</td>\n      <td>191,610</td>\n      <td>3.9</td>\n    </tr>\n    <tr>\n      <th>4</th>\n      <td>E06000005</td>\n      <td>Darlington</td>\n      <td>4</td>\n      <td>Urban with City and Town</td>\n      <td>13,201</td>\n      <td>0</td>\n      <td>13,201</td>\n      <td>105,564</td>\n      <td>12.5</td>\n    </tr>\n    <tr>\n      <th>...</th>\n      <td>...</td>\n      <td>...</td>\n      <td>...</td>\n      <td>...</td>\n      <td>...</td>\n      <td>...</td>\n      <td>...</td>\n      <td>...</td>\n      <td>...</td>\n    </tr>\n    <tr>\n      <th>321</th>\n      <td>E09000029</td>\n      <td>Sutton</td>\n      <td>6</td>\n      <td>Urban with Major Conurbation</td>\n      <td>0</td>\n      <td>0</td>\n      <td>0</td>\n      <td>190,146</td>\n      <td>0.0</td>\n    </tr>\n    <tr>\n      <th>322</th>\n      <td>E09000030</td>\n      <td>Tower Hamlets</td>\n      <td>6</td>\n      <td>Urban with Major Conurbation</td>\n      <td>0</td>\n      <td>0</td>\n      <td>0</td>\n      <td>254,096</td>\n      <td>0.0</td>\n    </tr>\n    <tr>\n      <th>323</th>\n      <td>E09000031</td>\n      <td>Waltham Forest</td>\n      <td>6</td>\n      <td>Urban with Major Conurbation</td>\n      <td>0</td>\n      <td>0</td>\n      <td>0</td>\n      <td>258,249</td>\n      <td>0.0</td>\n    </tr>\n    <tr>\n      <th>324</th>\n      <td>E09000032</td>\n      <td>Wandsworth</td>\n      <td>6</td>\n      <td>Urban with Major Conurbation</td>\n      <td>0</td>\n      <td>0</td>\n      <td>0</td>\n      <td>306,995</td>\n      <td>0.0</td>\n    </tr>\n    <tr>\n      <th>325</th>\n      <td>E09000033</td>\n      <td>Westminster</td>\n      <td>6</td>\n      <td>Urban with Major Conurbation</td>\n      <td>0</td>\n      <td>0</td>\n      <td>0</td>\n      <td>219,396</td>\n      <td>0.0</td>\n    </tr>\n  </tbody>\n</table>\n<p>326 rows × 9 columns</p>\n</div>"
     },
     "metadata": {},
     "execution_count": 79
    }
   ],
   "source": [
    "urbanRural_LA = pd.read_csv(\"data/RUC11_LAD11_ENv2.csv\")\n",
    "urbanRural_LA"
   ]
  },
  {
   "cell_type": "code",
   "execution_count": 64,
   "metadata": {},
   "outputs": [
    {
     "output_type": "execute_result",
     "data": {
      "text/plain": [
       "         MSOA11CD    LAD11CD\n",
       "0       E02000001  E09000001\n",
       "26      E02000017  E09000002\n",
       "28      E02000016  E09000002\n",
       "50      E02000019  E09000002\n",
       "51      E02000014  E09000002\n",
       "...           ...        ...\n",
       "180803  W02000403  W06000015\n",
       "180842  W02000379  W06000015\n",
       "180848  W02000377  W06000015\n",
       "180853  W02000386  W06000015\n",
       "180960  W02000376  W06000015\n",
       "\n",
       "[7201 rows x 2 columns]"
      ],
      "text/html": "<div>\n<style scoped>\n    .dataframe tbody tr th:only-of-type {\n        vertical-align: middle;\n    }\n\n    .dataframe tbody tr th {\n        vertical-align: top;\n    }\n\n    .dataframe thead th {\n        text-align: right;\n    }\n</style>\n<table border=\"1\" class=\"dataframe\">\n  <thead>\n    <tr style=\"text-align: right;\">\n      <th></th>\n      <th>MSOA11CD</th>\n      <th>LAD11CD</th>\n    </tr>\n  </thead>\n  <tbody>\n    <tr>\n      <th>0</th>\n      <td>E02000001</td>\n      <td>E09000001</td>\n    </tr>\n    <tr>\n      <th>26</th>\n      <td>E02000017</td>\n      <td>E09000002</td>\n    </tr>\n    <tr>\n      <th>28</th>\n      <td>E02000016</td>\n      <td>E09000002</td>\n    </tr>\n    <tr>\n      <th>50</th>\n      <td>E02000019</td>\n      <td>E09000002</td>\n    </tr>\n    <tr>\n      <th>51</th>\n      <td>E02000014</td>\n      <td>E09000002</td>\n    </tr>\n    <tr>\n      <th>...</th>\n      <td>...</td>\n      <td>...</td>\n    </tr>\n    <tr>\n      <th>180803</th>\n      <td>W02000403</td>\n      <td>W06000015</td>\n    </tr>\n    <tr>\n      <th>180842</th>\n      <td>W02000379</td>\n      <td>W06000015</td>\n    </tr>\n    <tr>\n      <th>180848</th>\n      <td>W02000377</td>\n      <td>W06000015</td>\n    </tr>\n    <tr>\n      <th>180853</th>\n      <td>W02000386</td>\n      <td>W06000015</td>\n    </tr>\n    <tr>\n      <th>180960</th>\n      <td>W02000376</td>\n      <td>W06000015</td>\n    </tr>\n  </tbody>\n</table>\n<p>7201 rows × 2 columns</p>\n</div>"
     },
     "metadata": {},
     "execution_count": 64
    }
   ],
   "source": [
    "df1"
   ]
  },
  {
   "cell_type": "code",
   "execution_count": null,
   "metadata": {},
   "outputs": [],
   "source": []
  }
 ]
}